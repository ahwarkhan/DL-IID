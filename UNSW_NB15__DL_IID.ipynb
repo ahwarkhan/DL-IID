{
  "nbformat": 4,
  "nbformat_minor": 0,
  "metadata": {
    "colab": {
      "provenance": [],
      "mount_file_id": "1B-EtXcEx5dqK1CGpuT4VZ2whUvNuqCXc",
      "authorship_tag": "ABX9TyNBer7wFHujOv00Ul3+u8uv",
      "include_colab_link": true
    },
    "kernelspec": {
      "name": "python3",
      "display_name": "Python 3"
    },
    "language_info": {
      "name": "python"
    }
  },
  "cells": [
    {
      "cell_type": "markdown",
      "metadata": {
        "id": "view-in-github",
        "colab_type": "text"
      },
      "source": [
        "<a href=\"https://colab.research.google.com/github/ahwarkhan/DL-IID/blob/main/UNSW_NB15__DL_IID.ipynb\" target=\"_parent\"><img src=\"https://colab.research.google.com/assets/colab-badge.svg\" alt=\"Open In Colab\"/></a>"
      ]
    },
    {
      "cell_type": "code",
      "source": [
        "!pip install lime"
      ],
      "metadata": {
        "colab": {
          "base_uri": "https://localhost:8080/"
        },
        "id": "9mYbgeJ8lDkL",
        "outputId": "93052b45-954e-47e3-b166-ba0d923f37d4"
      },
      "execution_count": null,
      "outputs": [
        {
          "output_type": "stream",
          "name": "stdout",
          "text": [
            "Collecting lime\n",
            "  Downloading lime-0.2.0.1.tar.gz (275 kB)\n",
            "\u001b[2K     \u001b[90m━━━━━━━━━━━━━━━━━━━━━━━━━━━━━━━━━━━━━━━━\u001b[0m \u001b[32m275.7/275.7 kB\u001b[0m \u001b[31m4.9 MB/s\u001b[0m eta \u001b[36m0:00:00\u001b[0m\n",
            "\u001b[?25h  Preparing metadata (setup.py) ... \u001b[?25l\u001b[?25hdone\n",
            "Requirement already satisfied: matplotlib in /usr/local/lib/python3.11/dist-packages (from lime) (3.10.0)\n",
            "Requirement already satisfied: numpy in /usr/local/lib/python3.11/dist-packages (from lime) (1.26.4)\n",
            "Requirement already satisfied: scipy in /usr/local/lib/python3.11/dist-packages (from lime) (1.13.1)\n",
            "Requirement already satisfied: tqdm in /usr/local/lib/python3.11/dist-packages (from lime) (4.67.1)\n",
            "Requirement already satisfied: scikit-learn>=0.18 in /usr/local/lib/python3.11/dist-packages (from lime) (1.6.1)\n",
            "Requirement already satisfied: scikit-image>=0.12 in /usr/local/lib/python3.11/dist-packages (from lime) (0.25.1)\n",
            "Requirement already satisfied: networkx>=3.0 in /usr/local/lib/python3.11/dist-packages (from scikit-image>=0.12->lime) (3.4.2)\n",
            "Requirement already satisfied: pillow>=10.1 in /usr/local/lib/python3.11/dist-packages (from scikit-image>=0.12->lime) (11.1.0)\n",
            "Requirement already satisfied: imageio!=2.35.0,>=2.33 in /usr/local/lib/python3.11/dist-packages (from scikit-image>=0.12->lime) (2.37.0)\n",
            "Requirement already satisfied: tifffile>=2022.8.12 in /usr/local/lib/python3.11/dist-packages (from scikit-image>=0.12->lime) (2025.1.10)\n",
            "Requirement already satisfied: packaging>=21 in /usr/local/lib/python3.11/dist-packages (from scikit-image>=0.12->lime) (24.2)\n",
            "Requirement already satisfied: lazy-loader>=0.4 in /usr/local/lib/python3.11/dist-packages (from scikit-image>=0.12->lime) (0.4)\n",
            "Requirement already satisfied: joblib>=1.2.0 in /usr/local/lib/python3.11/dist-packages (from scikit-learn>=0.18->lime) (1.4.2)\n",
            "Requirement already satisfied: threadpoolctl>=3.1.0 in /usr/local/lib/python3.11/dist-packages (from scikit-learn>=0.18->lime) (3.5.0)\n",
            "Requirement already satisfied: contourpy>=1.0.1 in /usr/local/lib/python3.11/dist-packages (from matplotlib->lime) (1.3.1)\n",
            "Requirement already satisfied: cycler>=0.10 in /usr/local/lib/python3.11/dist-packages (from matplotlib->lime) (0.12.1)\n",
            "Requirement already satisfied: fonttools>=4.22.0 in /usr/local/lib/python3.11/dist-packages (from matplotlib->lime) (4.56.0)\n",
            "Requirement already satisfied: kiwisolver>=1.3.1 in /usr/local/lib/python3.11/dist-packages (from matplotlib->lime) (1.4.8)\n",
            "Requirement already satisfied: pyparsing>=2.3.1 in /usr/local/lib/python3.11/dist-packages (from matplotlib->lime) (3.2.1)\n",
            "Requirement already satisfied: python-dateutil>=2.7 in /usr/local/lib/python3.11/dist-packages (from matplotlib->lime) (2.8.2)\n",
            "Requirement already satisfied: six>=1.5 in /usr/local/lib/python3.11/dist-packages (from python-dateutil>=2.7->matplotlib->lime) (1.17.0)\n",
            "Building wheels for collected packages: lime\n",
            "  Building wheel for lime (setup.py) ... \u001b[?25l\u001b[?25hdone\n",
            "  Created wheel for lime: filename=lime-0.2.0.1-py3-none-any.whl size=283834 sha256=5e5d2435c81d56ee24cf6fbfc3b3eb8f6167968ee13c2373c89a50999763f15e\n",
            "  Stored in directory: /root/.cache/pip/wheels/85/fa/a3/9c2d44c9f3cd77cf4e533b58900b2bf4487f2a17e8ec212a3d\n",
            "Successfully built lime\n",
            "Installing collected packages: lime\n",
            "Successfully installed lime-0.2.0.1\n"
          ]
        }
      ]
    },
    {
      "cell_type": "code",
      "source": [
        "from google.colab import drive\n",
        "drive.mount('/content/drive')"
      ],
      "metadata": {
        "colab": {
          "base_uri": "https://localhost:8080/"
        },
        "id": "mKsBBX6iy6Nl",
        "outputId": "2e28a41e-572e-4f1e-a359-7c74c60d4ff1"
      },
      "execution_count": null,
      "outputs": [
        {
          "output_type": "stream",
          "name": "stdout",
          "text": [
            "Mounted at /content/drive\n"
          ]
        }
      ]
    },
    {
      "cell_type": "code",
      "source": [
        "import os\n",
        "import numpy as np\n",
        "import pandas as pd\n",
        "import matplotlib.pyplot as plt\n",
        "from sklearn.model_selection import train_test_split, cross_val_score"
      ],
      "metadata": {
        "id": "l9zHXCjgbECC"
      },
      "execution_count": null,
      "outputs": []
    },
    {
      "cell_type": "code",
      "source": [
        "import torch\n",
        "import torch.nn as nn\n",
        "import torch.nn.functional as F\n",
        "import torch.optim as optim\n",
        "from torch.utils.data import Dataset, DataLoader, TensorDataset\n",
        "from sklearn.metrics import accuracy_score, precision_score, recall_score, f1_score, classification_report, confusion_matrix, ConfusionMatrixDisplay, make_scorer\n",
        "from sklearn.metrics import mean_absolute_error, mean_squared_error\n",
        "from sklearn.preprocessing import StandardScaler, LabelEncoder\n",
        "import psutil\n",
        "import time\n",
        "import random\n",
        "import math\n",
        "import lime\n",
        "import lime.lime_tabular"
      ],
      "metadata": {
        "id": "EJmYZu7-O6z8"
      },
      "execution_count": null,
      "outputs": []
    },
    {
      "cell_type": "code",
      "source": [
        "dataset = pd.read_csv('/content/drive/MyDrive/autoencoder_paper/dataset/UNSW_NB15.csv')"
      ],
      "metadata": {
        "id": "xDpcj1cbGClb"
      },
      "execution_count": null,
      "outputs": []
    },
    {
      "cell_type": "code",
      "source": [
        "dataset.describe().T"
      ],
      "metadata": {
        "colab": {
          "base_uri": "https://localhost:8080/",
          "height": 1000
        },
        "id": "WJehZl1_GM3f",
        "outputId": "3def7d4f-07db-41b2-ad39-0e84690cadc1"
      },
      "execution_count": null,
      "outputs": [
        {
          "output_type": "execute_result",
          "data": {
            "text/plain": [
              "                      count          mean           std   min           25%  \\\n",
              "id                 175341.0  8.767100e+04  5.061673e+04   1.0  43836.000000   \n",
              "dur                175341.0  1.359389e+00  6.480249e+00   0.0      0.000008   \n",
              "spkts              175341.0  2.029866e+01  1.368876e+02   1.0      2.000000   \n",
              "dpkts              175341.0  1.896959e+01  1.102583e+02   0.0      0.000000   \n",
              "sbytes             175341.0  8.844844e+03  1.747656e+05  28.0    114.000000   \n",
              "dbytes             175341.0  1.492892e+04  1.436542e+05   0.0      0.000000   \n",
              "rate               175341.0  9.540619e+04  1.654010e+05   0.0     32.786140   \n",
              "sttl               175341.0  1.795470e+02  1.029400e+02   0.0     62.000000   \n",
              "dttl               175341.0  7.960957e+01  1.105069e+02   0.0      0.000000   \n",
              "sload              175341.0  7.345403e+07  1.883574e+08   0.0  13053.338870   \n",
              "dload              175341.0  6.712056e+05  2.421312e+06   0.0      0.000000   \n",
              "sloss              175341.0  4.953000e+00  6.600506e+01   0.0      0.000000   \n",
              "dloss              175341.0  6.948010e+00  5.273300e+01   0.0      0.000000   \n",
              "sinpkt             175341.0  9.859769e+02  7.242246e+03   0.0      0.008000   \n",
              "dinpkt             175341.0  8.821630e+01  9.870932e+02   0.0      0.000000   \n",
              "sjit               175341.0  4.976254e+03  4.496585e+04   0.0      0.000000   \n",
              "djit               175341.0  6.043538e+02  4.061043e+03   0.0      0.000000   \n",
              "swin               175341.0  1.162573e+02  1.270010e+02   0.0      0.000000   \n",
              "stcpb              175341.0  9.692504e+08  1.355264e+09   0.0      0.000000   \n",
              "dtcpb              175341.0  9.688770e+08  1.354000e+09   0.0      0.000000   \n",
              "dwin               175341.0  1.150136e+02  1.268865e+02   0.0      0.000000   \n",
              "tcprtt             175341.0  4.139564e-02  7.935397e-02   0.0      0.000000   \n",
              "synack             175341.0  2.102045e-02  4.339978e-02   0.0      0.000000   \n",
              "ackdat             175341.0  2.037519e-02  4.050636e-02   0.0      0.000000   \n",
              "smean              175341.0  1.367518e+02  2.046774e+02  28.0     57.000000   \n",
              "dmean              175341.0  1.241734e+02  2.583171e+02   0.0      0.000000   \n",
              "trans_depth        175341.0  1.059821e-01  7.769108e-01   0.0      0.000000   \n",
              "response_body_len  175341.0  2.144292e+03  5.420797e+04   0.0      0.000000   \n",
              "ct_srv_src         175341.0  9.306437e+00  1.070433e+01   1.0      2.000000   \n",
              "ct_state_ttl       175341.0  1.304179e+00  9.544061e-01   0.0      1.000000   \n",
              "ct_dst_ltm         175341.0  6.193936e+00  8.052476e+00   1.0      1.000000   \n",
              "ct_src_dport_ltm   175341.0  5.383538e+00  8.047104e+00   1.0      1.000000   \n",
              "ct_dst_sport_ltm   175341.0  4.206255e+00  5.783585e+00   1.0      1.000000   \n",
              "ct_dst_src_ltm     175341.0  8.729881e+00  1.095619e+01   1.0      1.000000   \n",
              "is_ftp_login       175341.0  1.494802e-02  1.260480e-01   0.0      0.000000   \n",
              "ct_ftp_cmd         175341.0  1.494802e-02  1.260480e-01   0.0      0.000000   \n",
              "ct_flw_http_mthd   175341.0  1.330664e-01  7.012076e-01   0.0      0.000000   \n",
              "ct_src_ltm         175341.0  6.955789e+00  8.321493e+00   1.0      2.000000   \n",
              "ct_srv_dst         175341.0  9.100758e+00  1.075695e+01   1.0      2.000000   \n",
              "is_sm_ips_ports    175341.0  1.575216e-02  1.245155e-01   0.0      0.000000   \n",
              "label              175341.0  6.806223e-01  4.662369e-01   0.0      0.000000   \n",
              "\n",
              "                             50%           75%           max  \n",
              "id                  87671.000000  1.315060e+05  1.753410e+05  \n",
              "dur                     0.001582  6.680690e-01  5.999999e+01  \n",
              "spkts                   2.000000  1.200000e+01  9.616000e+03  \n",
              "dpkts                   2.000000  1.000000e+01  1.097400e+04  \n",
              "sbytes                430.000000  1.418000e+03  1.296523e+07  \n",
              "dbytes                164.000000  1.102000e+03  1.465555e+07  \n",
              "rate                 3225.806520  1.250000e+05  1.000000e+06  \n",
              "sttl                  254.000000  2.540000e+02  2.550000e+02  \n",
              "dttl                   29.000000  2.520000e+02  2.540000e+02  \n",
              "sload              879674.750000  8.888889e+07  5.988000e+09  \n",
              "dload                1447.022705  2.784487e+04  2.242273e+07  \n",
              "sloss                   0.000000  3.000000e+00  4.803000e+03  \n",
              "dloss                   0.000000  2.000000e+00  5.484000e+03  \n",
              "sinpkt                  0.279733  5.515690e+01  8.437150e+04  \n",
              "dinpkt                  0.006000  5.105300e+01  5.671682e+04  \n",
              "sjit                    0.000000  2.513295e+03  1.460480e+06  \n",
              "djit                    0.000000  1.149906e+02  2.893883e+05  \n",
              "swin                    0.000000  2.550000e+02  2.550000e+02  \n",
              "stcpb                   0.000000  1.916651e+09  4.294959e+09  \n",
              "dtcpb                   0.000000  1.913675e+09  4.294882e+09  \n",
              "dwin                    0.000000  2.550000e+02  2.550000e+02  \n",
              "tcprtt                  0.000000  6.548100e-02  2.518893e+00  \n",
              "synack                  0.000000  2.326800e-02  2.100352e+00  \n",
              "ackdat                  0.000000  3.890600e-02  1.520884e+00  \n",
              "smean                  73.000000  1.000000e+02  1.504000e+03  \n",
              "dmean                  44.000000  8.900000e+01  1.458000e+03  \n",
              "trans_depth             0.000000  0.000000e+00  1.720000e+02  \n",
              "response_body_len       0.000000  0.000000e+00  6.558056e+06  \n",
              "ct_srv_src              5.000000  1.200000e+01  6.300000e+01  \n",
              "ct_state_ttl            1.000000  2.000000e+00  6.000000e+00  \n",
              "ct_dst_ltm              2.000000  7.000000e+00  5.100000e+01  \n",
              "ct_src_dport_ltm        1.000000  5.000000e+00  5.100000e+01  \n",
              "ct_dst_sport_ltm        1.000000  3.000000e+00  4.600000e+01  \n",
              "ct_dst_src_ltm          3.000000  1.200000e+01  6.500000e+01  \n",
              "is_ftp_login            0.000000  0.000000e+00  4.000000e+00  \n",
              "ct_ftp_cmd              0.000000  0.000000e+00  4.000000e+00  \n",
              "ct_flw_http_mthd        0.000000  0.000000e+00  3.000000e+01  \n",
              "ct_src_ltm              3.000000  9.000000e+00  6.000000e+01  \n",
              "ct_srv_dst              4.000000  1.200000e+01  6.200000e+01  \n",
              "is_sm_ips_ports         0.000000  0.000000e+00  1.000000e+00  \n",
              "label                   1.000000  1.000000e+00  1.000000e+00  "
            ],
            "text/html": [
              "\n",
              "  <div id=\"df-d40ca78a-08c8-4025-ac17-8ed73550c8d8\" class=\"colab-df-container\">\n",
              "    <div>\n",
              "<style scoped>\n",
              "    .dataframe tbody tr th:only-of-type {\n",
              "        vertical-align: middle;\n",
              "    }\n",
              "\n",
              "    .dataframe tbody tr th {\n",
              "        vertical-align: top;\n",
              "    }\n",
              "\n",
              "    .dataframe thead th {\n",
              "        text-align: right;\n",
              "    }\n",
              "</style>\n",
              "<table border=\"1\" class=\"dataframe\">\n",
              "  <thead>\n",
              "    <tr style=\"text-align: right;\">\n",
              "      <th></th>\n",
              "      <th>count</th>\n",
              "      <th>mean</th>\n",
              "      <th>std</th>\n",
              "      <th>min</th>\n",
              "      <th>25%</th>\n",
              "      <th>50%</th>\n",
              "      <th>75%</th>\n",
              "      <th>max</th>\n",
              "    </tr>\n",
              "  </thead>\n",
              "  <tbody>\n",
              "    <tr>\n",
              "      <th>id</th>\n",
              "      <td>175341.0</td>\n",
              "      <td>8.767100e+04</td>\n",
              "      <td>5.061673e+04</td>\n",
              "      <td>1.0</td>\n",
              "      <td>43836.000000</td>\n",
              "      <td>87671.000000</td>\n",
              "      <td>1.315060e+05</td>\n",
              "      <td>1.753410e+05</td>\n",
              "    </tr>\n",
              "    <tr>\n",
              "      <th>dur</th>\n",
              "      <td>175341.0</td>\n",
              "      <td>1.359389e+00</td>\n",
              "      <td>6.480249e+00</td>\n",
              "      <td>0.0</td>\n",
              "      <td>0.000008</td>\n",
              "      <td>0.001582</td>\n",
              "      <td>6.680690e-01</td>\n",
              "      <td>5.999999e+01</td>\n",
              "    </tr>\n",
              "    <tr>\n",
              "      <th>spkts</th>\n",
              "      <td>175341.0</td>\n",
              "      <td>2.029866e+01</td>\n",
              "      <td>1.368876e+02</td>\n",
              "      <td>1.0</td>\n",
              "      <td>2.000000</td>\n",
              "      <td>2.000000</td>\n",
              "      <td>1.200000e+01</td>\n",
              "      <td>9.616000e+03</td>\n",
              "    </tr>\n",
              "    <tr>\n",
              "      <th>dpkts</th>\n",
              "      <td>175341.0</td>\n",
              "      <td>1.896959e+01</td>\n",
              "      <td>1.102583e+02</td>\n",
              "      <td>0.0</td>\n",
              "      <td>0.000000</td>\n",
              "      <td>2.000000</td>\n",
              "      <td>1.000000e+01</td>\n",
              "      <td>1.097400e+04</td>\n",
              "    </tr>\n",
              "    <tr>\n",
              "      <th>sbytes</th>\n",
              "      <td>175341.0</td>\n",
              "      <td>8.844844e+03</td>\n",
              "      <td>1.747656e+05</td>\n",
              "      <td>28.0</td>\n",
              "      <td>114.000000</td>\n",
              "      <td>430.000000</td>\n",
              "      <td>1.418000e+03</td>\n",
              "      <td>1.296523e+07</td>\n",
              "    </tr>\n",
              "    <tr>\n",
              "      <th>dbytes</th>\n",
              "      <td>175341.0</td>\n",
              "      <td>1.492892e+04</td>\n",
              "      <td>1.436542e+05</td>\n",
              "      <td>0.0</td>\n",
              "      <td>0.000000</td>\n",
              "      <td>164.000000</td>\n",
              "      <td>1.102000e+03</td>\n",
              "      <td>1.465555e+07</td>\n",
              "    </tr>\n",
              "    <tr>\n",
              "      <th>rate</th>\n",
              "      <td>175341.0</td>\n",
              "      <td>9.540619e+04</td>\n",
              "      <td>1.654010e+05</td>\n",
              "      <td>0.0</td>\n",
              "      <td>32.786140</td>\n",
              "      <td>3225.806520</td>\n",
              "      <td>1.250000e+05</td>\n",
              "      <td>1.000000e+06</td>\n",
              "    </tr>\n",
              "    <tr>\n",
              "      <th>sttl</th>\n",
              "      <td>175341.0</td>\n",
              "      <td>1.795470e+02</td>\n",
              "      <td>1.029400e+02</td>\n",
              "      <td>0.0</td>\n",
              "      <td>62.000000</td>\n",
              "      <td>254.000000</td>\n",
              "      <td>2.540000e+02</td>\n",
              "      <td>2.550000e+02</td>\n",
              "    </tr>\n",
              "    <tr>\n",
              "      <th>dttl</th>\n",
              "      <td>175341.0</td>\n",
              "      <td>7.960957e+01</td>\n",
              "      <td>1.105069e+02</td>\n",
              "      <td>0.0</td>\n",
              "      <td>0.000000</td>\n",
              "      <td>29.000000</td>\n",
              "      <td>2.520000e+02</td>\n",
              "      <td>2.540000e+02</td>\n",
              "    </tr>\n",
              "    <tr>\n",
              "      <th>sload</th>\n",
              "      <td>175341.0</td>\n",
              "      <td>7.345403e+07</td>\n",
              "      <td>1.883574e+08</td>\n",
              "      <td>0.0</td>\n",
              "      <td>13053.338870</td>\n",
              "      <td>879674.750000</td>\n",
              "      <td>8.888889e+07</td>\n",
              "      <td>5.988000e+09</td>\n",
              "    </tr>\n",
              "    <tr>\n",
              "      <th>dload</th>\n",
              "      <td>175341.0</td>\n",
              "      <td>6.712056e+05</td>\n",
              "      <td>2.421312e+06</td>\n",
              "      <td>0.0</td>\n",
              "      <td>0.000000</td>\n",
              "      <td>1447.022705</td>\n",
              "      <td>2.784487e+04</td>\n",
              "      <td>2.242273e+07</td>\n",
              "    </tr>\n",
              "    <tr>\n",
              "      <th>sloss</th>\n",
              "      <td>175341.0</td>\n",
              "      <td>4.953000e+00</td>\n",
              "      <td>6.600506e+01</td>\n",
              "      <td>0.0</td>\n",
              "      <td>0.000000</td>\n",
              "      <td>0.000000</td>\n",
              "      <td>3.000000e+00</td>\n",
              "      <td>4.803000e+03</td>\n",
              "    </tr>\n",
              "    <tr>\n",
              "      <th>dloss</th>\n",
              "      <td>175341.0</td>\n",
              "      <td>6.948010e+00</td>\n",
              "      <td>5.273300e+01</td>\n",
              "      <td>0.0</td>\n",
              "      <td>0.000000</td>\n",
              "      <td>0.000000</td>\n",
              "      <td>2.000000e+00</td>\n",
              "      <td>5.484000e+03</td>\n",
              "    </tr>\n",
              "    <tr>\n",
              "      <th>sinpkt</th>\n",
              "      <td>175341.0</td>\n",
              "      <td>9.859769e+02</td>\n",
              "      <td>7.242246e+03</td>\n",
              "      <td>0.0</td>\n",
              "      <td>0.008000</td>\n",
              "      <td>0.279733</td>\n",
              "      <td>5.515690e+01</td>\n",
              "      <td>8.437150e+04</td>\n",
              "    </tr>\n",
              "    <tr>\n",
              "      <th>dinpkt</th>\n",
              "      <td>175341.0</td>\n",
              "      <td>8.821630e+01</td>\n",
              "      <td>9.870932e+02</td>\n",
              "      <td>0.0</td>\n",
              "      <td>0.000000</td>\n",
              "      <td>0.006000</td>\n",
              "      <td>5.105300e+01</td>\n",
              "      <td>5.671682e+04</td>\n",
              "    </tr>\n",
              "    <tr>\n",
              "      <th>sjit</th>\n",
              "      <td>175341.0</td>\n",
              "      <td>4.976254e+03</td>\n",
              "      <td>4.496585e+04</td>\n",
              "      <td>0.0</td>\n",
              "      <td>0.000000</td>\n",
              "      <td>0.000000</td>\n",
              "      <td>2.513295e+03</td>\n",
              "      <td>1.460480e+06</td>\n",
              "    </tr>\n",
              "    <tr>\n",
              "      <th>djit</th>\n",
              "      <td>175341.0</td>\n",
              "      <td>6.043538e+02</td>\n",
              "      <td>4.061043e+03</td>\n",
              "      <td>0.0</td>\n",
              "      <td>0.000000</td>\n",
              "      <td>0.000000</td>\n",
              "      <td>1.149906e+02</td>\n",
              "      <td>2.893883e+05</td>\n",
              "    </tr>\n",
              "    <tr>\n",
              "      <th>swin</th>\n",
              "      <td>175341.0</td>\n",
              "      <td>1.162573e+02</td>\n",
              "      <td>1.270010e+02</td>\n",
              "      <td>0.0</td>\n",
              "      <td>0.000000</td>\n",
              "      <td>0.000000</td>\n",
              "      <td>2.550000e+02</td>\n",
              "      <td>2.550000e+02</td>\n",
              "    </tr>\n",
              "    <tr>\n",
              "      <th>stcpb</th>\n",
              "      <td>175341.0</td>\n",
              "      <td>9.692504e+08</td>\n",
              "      <td>1.355264e+09</td>\n",
              "      <td>0.0</td>\n",
              "      <td>0.000000</td>\n",
              "      <td>0.000000</td>\n",
              "      <td>1.916651e+09</td>\n",
              "      <td>4.294959e+09</td>\n",
              "    </tr>\n",
              "    <tr>\n",
              "      <th>dtcpb</th>\n",
              "      <td>175341.0</td>\n",
              "      <td>9.688770e+08</td>\n",
              "      <td>1.354000e+09</td>\n",
              "      <td>0.0</td>\n",
              "      <td>0.000000</td>\n",
              "      <td>0.000000</td>\n",
              "      <td>1.913675e+09</td>\n",
              "      <td>4.294882e+09</td>\n",
              "    </tr>\n",
              "    <tr>\n",
              "      <th>dwin</th>\n",
              "      <td>175341.0</td>\n",
              "      <td>1.150136e+02</td>\n",
              "      <td>1.268865e+02</td>\n",
              "      <td>0.0</td>\n",
              "      <td>0.000000</td>\n",
              "      <td>0.000000</td>\n",
              "      <td>2.550000e+02</td>\n",
              "      <td>2.550000e+02</td>\n",
              "    </tr>\n",
              "    <tr>\n",
              "      <th>tcprtt</th>\n",
              "      <td>175341.0</td>\n",
              "      <td>4.139564e-02</td>\n",
              "      <td>7.935397e-02</td>\n",
              "      <td>0.0</td>\n",
              "      <td>0.000000</td>\n",
              "      <td>0.000000</td>\n",
              "      <td>6.548100e-02</td>\n",
              "      <td>2.518893e+00</td>\n",
              "    </tr>\n",
              "    <tr>\n",
              "      <th>synack</th>\n",
              "      <td>175341.0</td>\n",
              "      <td>2.102045e-02</td>\n",
              "      <td>4.339978e-02</td>\n",
              "      <td>0.0</td>\n",
              "      <td>0.000000</td>\n",
              "      <td>0.000000</td>\n",
              "      <td>2.326800e-02</td>\n",
              "      <td>2.100352e+00</td>\n",
              "    </tr>\n",
              "    <tr>\n",
              "      <th>ackdat</th>\n",
              "      <td>175341.0</td>\n",
              "      <td>2.037519e-02</td>\n",
              "      <td>4.050636e-02</td>\n",
              "      <td>0.0</td>\n",
              "      <td>0.000000</td>\n",
              "      <td>0.000000</td>\n",
              "      <td>3.890600e-02</td>\n",
              "      <td>1.520884e+00</td>\n",
              "    </tr>\n",
              "    <tr>\n",
              "      <th>smean</th>\n",
              "      <td>175341.0</td>\n",
              "      <td>1.367518e+02</td>\n",
              "      <td>2.046774e+02</td>\n",
              "      <td>28.0</td>\n",
              "      <td>57.000000</td>\n",
              "      <td>73.000000</td>\n",
              "      <td>1.000000e+02</td>\n",
              "      <td>1.504000e+03</td>\n",
              "    </tr>\n",
              "    <tr>\n",
              "      <th>dmean</th>\n",
              "      <td>175341.0</td>\n",
              "      <td>1.241734e+02</td>\n",
              "      <td>2.583171e+02</td>\n",
              "      <td>0.0</td>\n",
              "      <td>0.000000</td>\n",
              "      <td>44.000000</td>\n",
              "      <td>8.900000e+01</td>\n",
              "      <td>1.458000e+03</td>\n",
              "    </tr>\n",
              "    <tr>\n",
              "      <th>trans_depth</th>\n",
              "      <td>175341.0</td>\n",
              "      <td>1.059821e-01</td>\n",
              "      <td>7.769108e-01</td>\n",
              "      <td>0.0</td>\n",
              "      <td>0.000000</td>\n",
              "      <td>0.000000</td>\n",
              "      <td>0.000000e+00</td>\n",
              "      <td>1.720000e+02</td>\n",
              "    </tr>\n",
              "    <tr>\n",
              "      <th>response_body_len</th>\n",
              "      <td>175341.0</td>\n",
              "      <td>2.144292e+03</td>\n",
              "      <td>5.420797e+04</td>\n",
              "      <td>0.0</td>\n",
              "      <td>0.000000</td>\n",
              "      <td>0.000000</td>\n",
              "      <td>0.000000e+00</td>\n",
              "      <td>6.558056e+06</td>\n",
              "    </tr>\n",
              "    <tr>\n",
              "      <th>ct_srv_src</th>\n",
              "      <td>175341.0</td>\n",
              "      <td>9.306437e+00</td>\n",
              "      <td>1.070433e+01</td>\n",
              "      <td>1.0</td>\n",
              "      <td>2.000000</td>\n",
              "      <td>5.000000</td>\n",
              "      <td>1.200000e+01</td>\n",
              "      <td>6.300000e+01</td>\n",
              "    </tr>\n",
              "    <tr>\n",
              "      <th>ct_state_ttl</th>\n",
              "      <td>175341.0</td>\n",
              "      <td>1.304179e+00</td>\n",
              "      <td>9.544061e-01</td>\n",
              "      <td>0.0</td>\n",
              "      <td>1.000000</td>\n",
              "      <td>1.000000</td>\n",
              "      <td>2.000000e+00</td>\n",
              "      <td>6.000000e+00</td>\n",
              "    </tr>\n",
              "    <tr>\n",
              "      <th>ct_dst_ltm</th>\n",
              "      <td>175341.0</td>\n",
              "      <td>6.193936e+00</td>\n",
              "      <td>8.052476e+00</td>\n",
              "      <td>1.0</td>\n",
              "      <td>1.000000</td>\n",
              "      <td>2.000000</td>\n",
              "      <td>7.000000e+00</td>\n",
              "      <td>5.100000e+01</td>\n",
              "    </tr>\n",
              "    <tr>\n",
              "      <th>ct_src_dport_ltm</th>\n",
              "      <td>175341.0</td>\n",
              "      <td>5.383538e+00</td>\n",
              "      <td>8.047104e+00</td>\n",
              "      <td>1.0</td>\n",
              "      <td>1.000000</td>\n",
              "      <td>1.000000</td>\n",
              "      <td>5.000000e+00</td>\n",
              "      <td>5.100000e+01</td>\n",
              "    </tr>\n",
              "    <tr>\n",
              "      <th>ct_dst_sport_ltm</th>\n",
              "      <td>175341.0</td>\n",
              "      <td>4.206255e+00</td>\n",
              "      <td>5.783585e+00</td>\n",
              "      <td>1.0</td>\n",
              "      <td>1.000000</td>\n",
              "      <td>1.000000</td>\n",
              "      <td>3.000000e+00</td>\n",
              "      <td>4.600000e+01</td>\n",
              "    </tr>\n",
              "    <tr>\n",
              "      <th>ct_dst_src_ltm</th>\n",
              "      <td>175341.0</td>\n",
              "      <td>8.729881e+00</td>\n",
              "      <td>1.095619e+01</td>\n",
              "      <td>1.0</td>\n",
              "      <td>1.000000</td>\n",
              "      <td>3.000000</td>\n",
              "      <td>1.200000e+01</td>\n",
              "      <td>6.500000e+01</td>\n",
              "    </tr>\n",
              "    <tr>\n",
              "      <th>is_ftp_login</th>\n",
              "      <td>175341.0</td>\n",
              "      <td>1.494802e-02</td>\n",
              "      <td>1.260480e-01</td>\n",
              "      <td>0.0</td>\n",
              "      <td>0.000000</td>\n",
              "      <td>0.000000</td>\n",
              "      <td>0.000000e+00</td>\n",
              "      <td>4.000000e+00</td>\n",
              "    </tr>\n",
              "    <tr>\n",
              "      <th>ct_ftp_cmd</th>\n",
              "      <td>175341.0</td>\n",
              "      <td>1.494802e-02</td>\n",
              "      <td>1.260480e-01</td>\n",
              "      <td>0.0</td>\n",
              "      <td>0.000000</td>\n",
              "      <td>0.000000</td>\n",
              "      <td>0.000000e+00</td>\n",
              "      <td>4.000000e+00</td>\n",
              "    </tr>\n",
              "    <tr>\n",
              "      <th>ct_flw_http_mthd</th>\n",
              "      <td>175341.0</td>\n",
              "      <td>1.330664e-01</td>\n",
              "      <td>7.012076e-01</td>\n",
              "      <td>0.0</td>\n",
              "      <td>0.000000</td>\n",
              "      <td>0.000000</td>\n",
              "      <td>0.000000e+00</td>\n",
              "      <td>3.000000e+01</td>\n",
              "    </tr>\n",
              "    <tr>\n",
              "      <th>ct_src_ltm</th>\n",
              "      <td>175341.0</td>\n",
              "      <td>6.955789e+00</td>\n",
              "      <td>8.321493e+00</td>\n",
              "      <td>1.0</td>\n",
              "      <td>2.000000</td>\n",
              "      <td>3.000000</td>\n",
              "      <td>9.000000e+00</td>\n",
              "      <td>6.000000e+01</td>\n",
              "    </tr>\n",
              "    <tr>\n",
              "      <th>ct_srv_dst</th>\n",
              "      <td>175341.0</td>\n",
              "      <td>9.100758e+00</td>\n",
              "      <td>1.075695e+01</td>\n",
              "      <td>1.0</td>\n",
              "      <td>2.000000</td>\n",
              "      <td>4.000000</td>\n",
              "      <td>1.200000e+01</td>\n",
              "      <td>6.200000e+01</td>\n",
              "    </tr>\n",
              "    <tr>\n",
              "      <th>is_sm_ips_ports</th>\n",
              "      <td>175341.0</td>\n",
              "      <td>1.575216e-02</td>\n",
              "      <td>1.245155e-01</td>\n",
              "      <td>0.0</td>\n",
              "      <td>0.000000</td>\n",
              "      <td>0.000000</td>\n",
              "      <td>0.000000e+00</td>\n",
              "      <td>1.000000e+00</td>\n",
              "    </tr>\n",
              "    <tr>\n",
              "      <th>label</th>\n",
              "      <td>175341.0</td>\n",
              "      <td>6.806223e-01</td>\n",
              "      <td>4.662369e-01</td>\n",
              "      <td>0.0</td>\n",
              "      <td>0.000000</td>\n",
              "      <td>1.000000</td>\n",
              "      <td>1.000000e+00</td>\n",
              "      <td>1.000000e+00</td>\n",
              "    </tr>\n",
              "  </tbody>\n",
              "</table>\n",
              "</div>\n",
              "    <div class=\"colab-df-buttons\">\n",
              "\n",
              "  <div class=\"colab-df-container\">\n",
              "    <button class=\"colab-df-convert\" onclick=\"convertToInteractive('df-d40ca78a-08c8-4025-ac17-8ed73550c8d8')\"\n",
              "            title=\"Convert this dataframe to an interactive table.\"\n",
              "            style=\"display:none;\">\n",
              "\n",
              "  <svg xmlns=\"http://www.w3.org/2000/svg\" height=\"24px\" viewBox=\"0 -960 960 960\">\n",
              "    <path d=\"M120-120v-720h720v720H120Zm60-500h600v-160H180v160Zm220 220h160v-160H400v160Zm0 220h160v-160H400v160ZM180-400h160v-160H180v160Zm440 0h160v-160H620v160ZM180-180h160v-160H180v160Zm440 0h160v-160H620v160Z\"/>\n",
              "  </svg>\n",
              "    </button>\n",
              "\n",
              "  <style>\n",
              "    .colab-df-container {\n",
              "      display:flex;\n",
              "      gap: 12px;\n",
              "    }\n",
              "\n",
              "    .colab-df-convert {\n",
              "      background-color: #E8F0FE;\n",
              "      border: none;\n",
              "      border-radius: 50%;\n",
              "      cursor: pointer;\n",
              "      display: none;\n",
              "      fill: #1967D2;\n",
              "      height: 32px;\n",
              "      padding: 0 0 0 0;\n",
              "      width: 32px;\n",
              "    }\n",
              "\n",
              "    .colab-df-convert:hover {\n",
              "      background-color: #E2EBFA;\n",
              "      box-shadow: 0px 1px 2px rgba(60, 64, 67, 0.3), 0px 1px 3px 1px rgba(60, 64, 67, 0.15);\n",
              "      fill: #174EA6;\n",
              "    }\n",
              "\n",
              "    .colab-df-buttons div {\n",
              "      margin-bottom: 4px;\n",
              "    }\n",
              "\n",
              "    [theme=dark] .colab-df-convert {\n",
              "      background-color: #3B4455;\n",
              "      fill: #D2E3FC;\n",
              "    }\n",
              "\n",
              "    [theme=dark] .colab-df-convert:hover {\n",
              "      background-color: #434B5C;\n",
              "      box-shadow: 0px 1px 3px 1px rgba(0, 0, 0, 0.15);\n",
              "      filter: drop-shadow(0px 1px 2px rgba(0, 0, 0, 0.3));\n",
              "      fill: #FFFFFF;\n",
              "    }\n",
              "  </style>\n",
              "\n",
              "    <script>\n",
              "      const buttonEl =\n",
              "        document.querySelector('#df-d40ca78a-08c8-4025-ac17-8ed73550c8d8 button.colab-df-convert');\n",
              "      buttonEl.style.display =\n",
              "        google.colab.kernel.accessAllowed ? 'block' : 'none';\n",
              "\n",
              "      async function convertToInteractive(key) {\n",
              "        const element = document.querySelector('#df-d40ca78a-08c8-4025-ac17-8ed73550c8d8');\n",
              "        const dataTable =\n",
              "          await google.colab.kernel.invokeFunction('convertToInteractive',\n",
              "                                                    [key], {});\n",
              "        if (!dataTable) return;\n",
              "\n",
              "        const docLinkHtml = 'Like what you see? Visit the ' +\n",
              "          '<a target=\"_blank\" href=https://colab.research.google.com/notebooks/data_table.ipynb>data table notebook</a>'\n",
              "          + ' to learn more about interactive tables.';\n",
              "        element.innerHTML = '';\n",
              "        dataTable['output_type'] = 'display_data';\n",
              "        await google.colab.output.renderOutput(dataTable, element);\n",
              "        const docLink = document.createElement('div');\n",
              "        docLink.innerHTML = docLinkHtml;\n",
              "        element.appendChild(docLink);\n",
              "      }\n",
              "    </script>\n",
              "  </div>\n",
              "\n",
              "\n",
              "<div id=\"df-92830788-d035-4166-8b4f-c2fc101ac672\">\n",
              "  <button class=\"colab-df-quickchart\" onclick=\"quickchart('df-92830788-d035-4166-8b4f-c2fc101ac672')\"\n",
              "            title=\"Suggest charts\"\n",
              "            style=\"display:none;\">\n",
              "\n",
              "<svg xmlns=\"http://www.w3.org/2000/svg\" height=\"24px\"viewBox=\"0 0 24 24\"\n",
              "     width=\"24px\">\n",
              "    <g>\n",
              "        <path d=\"M19 3H5c-1.1 0-2 .9-2 2v14c0 1.1.9 2 2 2h14c1.1 0 2-.9 2-2V5c0-1.1-.9-2-2-2zM9 17H7v-7h2v7zm4 0h-2V7h2v10zm4 0h-2v-4h2v4z\"/>\n",
              "    </g>\n",
              "</svg>\n",
              "  </button>\n",
              "\n",
              "<style>\n",
              "  .colab-df-quickchart {\n",
              "      --bg-color: #E8F0FE;\n",
              "      --fill-color: #1967D2;\n",
              "      --hover-bg-color: #E2EBFA;\n",
              "      --hover-fill-color: #174EA6;\n",
              "      --disabled-fill-color: #AAA;\n",
              "      --disabled-bg-color: #DDD;\n",
              "  }\n",
              "\n",
              "  [theme=dark] .colab-df-quickchart {\n",
              "      --bg-color: #3B4455;\n",
              "      --fill-color: #D2E3FC;\n",
              "      --hover-bg-color: #434B5C;\n",
              "      --hover-fill-color: #FFFFFF;\n",
              "      --disabled-bg-color: #3B4455;\n",
              "      --disabled-fill-color: #666;\n",
              "  }\n",
              "\n",
              "  .colab-df-quickchart {\n",
              "    background-color: var(--bg-color);\n",
              "    border: none;\n",
              "    border-radius: 50%;\n",
              "    cursor: pointer;\n",
              "    display: none;\n",
              "    fill: var(--fill-color);\n",
              "    height: 32px;\n",
              "    padding: 0;\n",
              "    width: 32px;\n",
              "  }\n",
              "\n",
              "  .colab-df-quickchart:hover {\n",
              "    background-color: var(--hover-bg-color);\n",
              "    box-shadow: 0 1px 2px rgba(60, 64, 67, 0.3), 0 1px 3px 1px rgba(60, 64, 67, 0.15);\n",
              "    fill: var(--button-hover-fill-color);\n",
              "  }\n",
              "\n",
              "  .colab-df-quickchart-complete:disabled,\n",
              "  .colab-df-quickchart-complete:disabled:hover {\n",
              "    background-color: var(--disabled-bg-color);\n",
              "    fill: var(--disabled-fill-color);\n",
              "    box-shadow: none;\n",
              "  }\n",
              "\n",
              "  .colab-df-spinner {\n",
              "    border: 2px solid var(--fill-color);\n",
              "    border-color: transparent;\n",
              "    border-bottom-color: var(--fill-color);\n",
              "    animation:\n",
              "      spin 1s steps(1) infinite;\n",
              "  }\n",
              "\n",
              "  @keyframes spin {\n",
              "    0% {\n",
              "      border-color: transparent;\n",
              "      border-bottom-color: var(--fill-color);\n",
              "      border-left-color: var(--fill-color);\n",
              "    }\n",
              "    20% {\n",
              "      border-color: transparent;\n",
              "      border-left-color: var(--fill-color);\n",
              "      border-top-color: var(--fill-color);\n",
              "    }\n",
              "    30% {\n",
              "      border-color: transparent;\n",
              "      border-left-color: var(--fill-color);\n",
              "      border-top-color: var(--fill-color);\n",
              "      border-right-color: var(--fill-color);\n",
              "    }\n",
              "    40% {\n",
              "      border-color: transparent;\n",
              "      border-right-color: var(--fill-color);\n",
              "      border-top-color: var(--fill-color);\n",
              "    }\n",
              "    60% {\n",
              "      border-color: transparent;\n",
              "      border-right-color: var(--fill-color);\n",
              "    }\n",
              "    80% {\n",
              "      border-color: transparent;\n",
              "      border-right-color: var(--fill-color);\n",
              "      border-bottom-color: var(--fill-color);\n",
              "    }\n",
              "    90% {\n",
              "      border-color: transparent;\n",
              "      border-bottom-color: var(--fill-color);\n",
              "    }\n",
              "  }\n",
              "</style>\n",
              "\n",
              "  <script>\n",
              "    async function quickchart(key) {\n",
              "      const quickchartButtonEl =\n",
              "        document.querySelector('#' + key + ' button');\n",
              "      quickchartButtonEl.disabled = true;  // To prevent multiple clicks.\n",
              "      quickchartButtonEl.classList.add('colab-df-spinner');\n",
              "      try {\n",
              "        const charts = await google.colab.kernel.invokeFunction(\n",
              "            'suggestCharts', [key], {});\n",
              "      } catch (error) {\n",
              "        console.error('Error during call to suggestCharts:', error);\n",
              "      }\n",
              "      quickchartButtonEl.classList.remove('colab-df-spinner');\n",
              "      quickchartButtonEl.classList.add('colab-df-quickchart-complete');\n",
              "    }\n",
              "    (() => {\n",
              "      let quickchartButtonEl =\n",
              "        document.querySelector('#df-92830788-d035-4166-8b4f-c2fc101ac672 button');\n",
              "      quickchartButtonEl.style.display =\n",
              "        google.colab.kernel.accessAllowed ? 'block' : 'none';\n",
              "    })();\n",
              "  </script>\n",
              "</div>\n",
              "\n",
              "    </div>\n",
              "  </div>\n"
            ],
            "application/vnd.google.colaboratory.intrinsic+json": {
              "type": "dataframe",
              "summary": "{\n  \"name\": \"dataset\",\n  \"rows\": 41,\n  \"fields\": [\n    {\n      \"column\": \"count\",\n      \"properties\": {\n        \"dtype\": \"number\",\n        \"std\": 0.0,\n        \"min\": 175341.0,\n        \"max\": 175341.0,\n        \"num_unique_values\": 1,\n        \"samples\": [\n          175341.0\n        ],\n        \"semantic_type\": \"\",\n        \"description\": \"\"\n      }\n    },\n    {\n      \"column\": \"mean\",\n      \"properties\": {\n        \"dtype\": \"number\",\n        \"std\": 211233505.98586923,\n        \"min\": 0.014948015581067748,\n        \"max\": 969250421.9105115,\n        \"num_unique_values\": 40,\n        \"samples\": [\n          968877027.0711528\n        ],\n        \"semantic_type\": \"\",\n        \"description\": \"\"\n      }\n    },\n    {\n      \"column\": \"std\",\n      \"properties\": {\n        \"dtype\": \"number\",\n        \"std\": 295817548.7252518,\n        \"min\": 0.04050635591348815,\n        \"max\": 1355264249.2639306,\n        \"num_unique_values\": 40,\n        \"samples\": [\n          1353999546.225313\n        ],\n        \"semantic_type\": \"\",\n        \"description\": \"\"\n      }\n    },\n    {\n      \"column\": \"min\",\n      \"properties\": {\n        \"dtype\": \"number\",\n        \"std\": 6.070319636378707,\n        \"min\": 0.0,\n        \"max\": 28.0,\n        \"num_unique_values\": 3,\n        \"samples\": [\n          1.0\n        ],\n        \"semantic_type\": \"\",\n        \"description\": \"\"\n      }\n    },\n    {\n      \"column\": \"25%\",\n      \"properties\": {\n        \"dtype\": \"number\",\n        \"std\": 7092.766831181167,\n        \"min\": 0.0,\n        \"max\": 43836.0,\n        \"num_unique_values\": 11,\n        \"samples\": [\n          32.78614\n        ],\n        \"semantic_type\": \"\",\n        \"description\": \"\"\n      }\n    },\n    {\n      \"column\": \"50%\",\n      \"properties\": {\n        \"dtype\": \"number\",\n        \"std\": 137698.39375372915,\n        \"min\": 0.0,\n        \"max\": 879674.75,\n        \"num_unique_values\": 19,\n        \"samples\": [\n          87671.0\n        ],\n        \"semantic_type\": \"\",\n        \"description\": \"\"\n      }\n    },\n    {\n      \"column\": \"75%\",\n      \"properties\": {\n        \"dtype\": \"number\",\n        \"std\": 417399946.39065194,\n        \"min\": 0.0,\n        \"max\": 1916651334.0,\n        \"num_unique_values\": 30,\n        \"samples\": [\n          5.0\n        ],\n        \"semantic_type\": \"\",\n        \"description\": \"\"\n      }\n    },\n    {\n      \"column\": \"max\",\n      \"properties\": {\n        \"dtype\": \"number\",\n        \"std\": 1299268679.0911837,\n        \"min\": 1.0,\n        \"max\": 5988000256.0,\n        \"num_unique_values\": 36,\n        \"samples\": [\n          1.0\n        ],\n        \"semantic_type\": \"\",\n        \"description\": \"\"\n      }\n    }\n  ]\n}"
            }
          },
          "metadata": {},
          "execution_count": 6
        }
      ]
    },
    {
      "cell_type": "code",
      "source": [
        "dataset.head()"
      ],
      "metadata": {
        "colab": {
          "base_uri": "https://localhost:8080/",
          "height": 253
        },
        "id": "OS5ktbNRGSig",
        "outputId": "5735c8de-eb01-4a48-f5e5-5ea7d5c09562"
      },
      "execution_count": null,
      "outputs": [
        {
          "output_type": "execute_result",
          "data": {
            "text/plain": [
              "   id       dur proto service state  spkts  dpkts  sbytes  dbytes       rate  \\\n",
              "0   1  0.121478   tcp       -   FIN      6      4     258     172  74.087490   \n",
              "1   2  0.649902   tcp       -   FIN     14     38     734   42014  78.473372   \n",
              "2   3  1.623129   tcp       -   FIN      8     16     364   13186  14.170161   \n",
              "3   4  1.681642   tcp     ftp   FIN     12     12     628     770  13.677108   \n",
              "4   5  0.449454   tcp       -   FIN     10      6     534     268  33.373826   \n",
              "\n",
              "   ...  ct_dst_sport_ltm  ct_dst_src_ltm  is_ftp_login  ct_ftp_cmd  \\\n",
              "0  ...                 1               1             0           0   \n",
              "1  ...                 1               2             0           0   \n",
              "2  ...                 1               3             0           0   \n",
              "3  ...                 1               3             1           1   \n",
              "4  ...                 1              40             0           0   \n",
              "\n",
              "   ct_flw_http_mthd  ct_src_ltm  ct_srv_dst  is_sm_ips_ports  attack_cat  \\\n",
              "0                 0           1           1                0      Normal   \n",
              "1                 0           1           6                0      Normal   \n",
              "2                 0           2           6                0      Normal   \n",
              "3                 0           2           1                0      Normal   \n",
              "4                 0           2          39                0      Normal   \n",
              "\n",
              "   label  \n",
              "0      0  \n",
              "1      0  \n",
              "2      0  \n",
              "3      0  \n",
              "4      0  \n",
              "\n",
              "[5 rows x 45 columns]"
            ],
            "text/html": [
              "\n",
              "  <div id=\"df-e51ce4f8-d8d1-463f-bb1b-64b54a16b23b\" class=\"colab-df-container\">\n",
              "    <div>\n",
              "<style scoped>\n",
              "    .dataframe tbody tr th:only-of-type {\n",
              "        vertical-align: middle;\n",
              "    }\n",
              "\n",
              "    .dataframe tbody tr th {\n",
              "        vertical-align: top;\n",
              "    }\n",
              "\n",
              "    .dataframe thead th {\n",
              "        text-align: right;\n",
              "    }\n",
              "</style>\n",
              "<table border=\"1\" class=\"dataframe\">\n",
              "  <thead>\n",
              "    <tr style=\"text-align: right;\">\n",
              "      <th></th>\n",
              "      <th>id</th>\n",
              "      <th>dur</th>\n",
              "      <th>proto</th>\n",
              "      <th>service</th>\n",
              "      <th>state</th>\n",
              "      <th>spkts</th>\n",
              "      <th>dpkts</th>\n",
              "      <th>sbytes</th>\n",
              "      <th>dbytes</th>\n",
              "      <th>rate</th>\n",
              "      <th>...</th>\n",
              "      <th>ct_dst_sport_ltm</th>\n",
              "      <th>ct_dst_src_ltm</th>\n",
              "      <th>is_ftp_login</th>\n",
              "      <th>ct_ftp_cmd</th>\n",
              "      <th>ct_flw_http_mthd</th>\n",
              "      <th>ct_src_ltm</th>\n",
              "      <th>ct_srv_dst</th>\n",
              "      <th>is_sm_ips_ports</th>\n",
              "      <th>attack_cat</th>\n",
              "      <th>label</th>\n",
              "    </tr>\n",
              "  </thead>\n",
              "  <tbody>\n",
              "    <tr>\n",
              "      <th>0</th>\n",
              "      <td>1</td>\n",
              "      <td>0.121478</td>\n",
              "      <td>tcp</td>\n",
              "      <td>-</td>\n",
              "      <td>FIN</td>\n",
              "      <td>6</td>\n",
              "      <td>4</td>\n",
              "      <td>258</td>\n",
              "      <td>172</td>\n",
              "      <td>74.087490</td>\n",
              "      <td>...</td>\n",
              "      <td>1</td>\n",
              "      <td>1</td>\n",
              "      <td>0</td>\n",
              "      <td>0</td>\n",
              "      <td>0</td>\n",
              "      <td>1</td>\n",
              "      <td>1</td>\n",
              "      <td>0</td>\n",
              "      <td>Normal</td>\n",
              "      <td>0</td>\n",
              "    </tr>\n",
              "    <tr>\n",
              "      <th>1</th>\n",
              "      <td>2</td>\n",
              "      <td>0.649902</td>\n",
              "      <td>tcp</td>\n",
              "      <td>-</td>\n",
              "      <td>FIN</td>\n",
              "      <td>14</td>\n",
              "      <td>38</td>\n",
              "      <td>734</td>\n",
              "      <td>42014</td>\n",
              "      <td>78.473372</td>\n",
              "      <td>...</td>\n",
              "      <td>1</td>\n",
              "      <td>2</td>\n",
              "      <td>0</td>\n",
              "      <td>0</td>\n",
              "      <td>0</td>\n",
              "      <td>1</td>\n",
              "      <td>6</td>\n",
              "      <td>0</td>\n",
              "      <td>Normal</td>\n",
              "      <td>0</td>\n",
              "    </tr>\n",
              "    <tr>\n",
              "      <th>2</th>\n",
              "      <td>3</td>\n",
              "      <td>1.623129</td>\n",
              "      <td>tcp</td>\n",
              "      <td>-</td>\n",
              "      <td>FIN</td>\n",
              "      <td>8</td>\n",
              "      <td>16</td>\n",
              "      <td>364</td>\n",
              "      <td>13186</td>\n",
              "      <td>14.170161</td>\n",
              "      <td>...</td>\n",
              "      <td>1</td>\n",
              "      <td>3</td>\n",
              "      <td>0</td>\n",
              "      <td>0</td>\n",
              "      <td>0</td>\n",
              "      <td>2</td>\n",
              "      <td>6</td>\n",
              "      <td>0</td>\n",
              "      <td>Normal</td>\n",
              "      <td>0</td>\n",
              "    </tr>\n",
              "    <tr>\n",
              "      <th>3</th>\n",
              "      <td>4</td>\n",
              "      <td>1.681642</td>\n",
              "      <td>tcp</td>\n",
              "      <td>ftp</td>\n",
              "      <td>FIN</td>\n",
              "      <td>12</td>\n",
              "      <td>12</td>\n",
              "      <td>628</td>\n",
              "      <td>770</td>\n",
              "      <td>13.677108</td>\n",
              "      <td>...</td>\n",
              "      <td>1</td>\n",
              "      <td>3</td>\n",
              "      <td>1</td>\n",
              "      <td>1</td>\n",
              "      <td>0</td>\n",
              "      <td>2</td>\n",
              "      <td>1</td>\n",
              "      <td>0</td>\n",
              "      <td>Normal</td>\n",
              "      <td>0</td>\n",
              "    </tr>\n",
              "    <tr>\n",
              "      <th>4</th>\n",
              "      <td>5</td>\n",
              "      <td>0.449454</td>\n",
              "      <td>tcp</td>\n",
              "      <td>-</td>\n",
              "      <td>FIN</td>\n",
              "      <td>10</td>\n",
              "      <td>6</td>\n",
              "      <td>534</td>\n",
              "      <td>268</td>\n",
              "      <td>33.373826</td>\n",
              "      <td>...</td>\n",
              "      <td>1</td>\n",
              "      <td>40</td>\n",
              "      <td>0</td>\n",
              "      <td>0</td>\n",
              "      <td>0</td>\n",
              "      <td>2</td>\n",
              "      <td>39</td>\n",
              "      <td>0</td>\n",
              "      <td>Normal</td>\n",
              "      <td>0</td>\n",
              "    </tr>\n",
              "  </tbody>\n",
              "</table>\n",
              "<p>5 rows × 45 columns</p>\n",
              "</div>\n",
              "    <div class=\"colab-df-buttons\">\n",
              "\n",
              "  <div class=\"colab-df-container\">\n",
              "    <button class=\"colab-df-convert\" onclick=\"convertToInteractive('df-e51ce4f8-d8d1-463f-bb1b-64b54a16b23b')\"\n",
              "            title=\"Convert this dataframe to an interactive table.\"\n",
              "            style=\"display:none;\">\n",
              "\n",
              "  <svg xmlns=\"http://www.w3.org/2000/svg\" height=\"24px\" viewBox=\"0 -960 960 960\">\n",
              "    <path d=\"M120-120v-720h720v720H120Zm60-500h600v-160H180v160Zm220 220h160v-160H400v160Zm0 220h160v-160H400v160ZM180-400h160v-160H180v160Zm440 0h160v-160H620v160ZM180-180h160v-160H180v160Zm440 0h160v-160H620v160Z\"/>\n",
              "  </svg>\n",
              "    </button>\n",
              "\n",
              "  <style>\n",
              "    .colab-df-container {\n",
              "      display:flex;\n",
              "      gap: 12px;\n",
              "    }\n",
              "\n",
              "    .colab-df-convert {\n",
              "      background-color: #E8F0FE;\n",
              "      border: none;\n",
              "      border-radius: 50%;\n",
              "      cursor: pointer;\n",
              "      display: none;\n",
              "      fill: #1967D2;\n",
              "      height: 32px;\n",
              "      padding: 0 0 0 0;\n",
              "      width: 32px;\n",
              "    }\n",
              "\n",
              "    .colab-df-convert:hover {\n",
              "      background-color: #E2EBFA;\n",
              "      box-shadow: 0px 1px 2px rgba(60, 64, 67, 0.3), 0px 1px 3px 1px rgba(60, 64, 67, 0.15);\n",
              "      fill: #174EA6;\n",
              "    }\n",
              "\n",
              "    .colab-df-buttons div {\n",
              "      margin-bottom: 4px;\n",
              "    }\n",
              "\n",
              "    [theme=dark] .colab-df-convert {\n",
              "      background-color: #3B4455;\n",
              "      fill: #D2E3FC;\n",
              "    }\n",
              "\n",
              "    [theme=dark] .colab-df-convert:hover {\n",
              "      background-color: #434B5C;\n",
              "      box-shadow: 0px 1px 3px 1px rgba(0, 0, 0, 0.15);\n",
              "      filter: drop-shadow(0px 1px 2px rgba(0, 0, 0, 0.3));\n",
              "      fill: #FFFFFF;\n",
              "    }\n",
              "  </style>\n",
              "\n",
              "    <script>\n",
              "      const buttonEl =\n",
              "        document.querySelector('#df-e51ce4f8-d8d1-463f-bb1b-64b54a16b23b button.colab-df-convert');\n",
              "      buttonEl.style.display =\n",
              "        google.colab.kernel.accessAllowed ? 'block' : 'none';\n",
              "\n",
              "      async function convertToInteractive(key) {\n",
              "        const element = document.querySelector('#df-e51ce4f8-d8d1-463f-bb1b-64b54a16b23b');\n",
              "        const dataTable =\n",
              "          await google.colab.kernel.invokeFunction('convertToInteractive',\n",
              "                                                    [key], {});\n",
              "        if (!dataTable) return;\n",
              "\n",
              "        const docLinkHtml = 'Like what you see? Visit the ' +\n",
              "          '<a target=\"_blank\" href=https://colab.research.google.com/notebooks/data_table.ipynb>data table notebook</a>'\n",
              "          + ' to learn more about interactive tables.';\n",
              "        element.innerHTML = '';\n",
              "        dataTable['output_type'] = 'display_data';\n",
              "        await google.colab.output.renderOutput(dataTable, element);\n",
              "        const docLink = document.createElement('div');\n",
              "        docLink.innerHTML = docLinkHtml;\n",
              "        element.appendChild(docLink);\n",
              "      }\n",
              "    </script>\n",
              "  </div>\n",
              "\n",
              "\n",
              "<div id=\"df-568033cc-491f-40a3-b1b8-e2cc66ef8492\">\n",
              "  <button class=\"colab-df-quickchart\" onclick=\"quickchart('df-568033cc-491f-40a3-b1b8-e2cc66ef8492')\"\n",
              "            title=\"Suggest charts\"\n",
              "            style=\"display:none;\">\n",
              "\n",
              "<svg xmlns=\"http://www.w3.org/2000/svg\" height=\"24px\"viewBox=\"0 0 24 24\"\n",
              "     width=\"24px\">\n",
              "    <g>\n",
              "        <path d=\"M19 3H5c-1.1 0-2 .9-2 2v14c0 1.1.9 2 2 2h14c1.1 0 2-.9 2-2V5c0-1.1-.9-2-2-2zM9 17H7v-7h2v7zm4 0h-2V7h2v10zm4 0h-2v-4h2v4z\"/>\n",
              "    </g>\n",
              "</svg>\n",
              "  </button>\n",
              "\n",
              "<style>\n",
              "  .colab-df-quickchart {\n",
              "      --bg-color: #E8F0FE;\n",
              "      --fill-color: #1967D2;\n",
              "      --hover-bg-color: #E2EBFA;\n",
              "      --hover-fill-color: #174EA6;\n",
              "      --disabled-fill-color: #AAA;\n",
              "      --disabled-bg-color: #DDD;\n",
              "  }\n",
              "\n",
              "  [theme=dark] .colab-df-quickchart {\n",
              "      --bg-color: #3B4455;\n",
              "      --fill-color: #D2E3FC;\n",
              "      --hover-bg-color: #434B5C;\n",
              "      --hover-fill-color: #FFFFFF;\n",
              "      --disabled-bg-color: #3B4455;\n",
              "      --disabled-fill-color: #666;\n",
              "  }\n",
              "\n",
              "  .colab-df-quickchart {\n",
              "    background-color: var(--bg-color);\n",
              "    border: none;\n",
              "    border-radius: 50%;\n",
              "    cursor: pointer;\n",
              "    display: none;\n",
              "    fill: var(--fill-color);\n",
              "    height: 32px;\n",
              "    padding: 0;\n",
              "    width: 32px;\n",
              "  }\n",
              "\n",
              "  .colab-df-quickchart:hover {\n",
              "    background-color: var(--hover-bg-color);\n",
              "    box-shadow: 0 1px 2px rgba(60, 64, 67, 0.3), 0 1px 3px 1px rgba(60, 64, 67, 0.15);\n",
              "    fill: var(--button-hover-fill-color);\n",
              "  }\n",
              "\n",
              "  .colab-df-quickchart-complete:disabled,\n",
              "  .colab-df-quickchart-complete:disabled:hover {\n",
              "    background-color: var(--disabled-bg-color);\n",
              "    fill: var(--disabled-fill-color);\n",
              "    box-shadow: none;\n",
              "  }\n",
              "\n",
              "  .colab-df-spinner {\n",
              "    border: 2px solid var(--fill-color);\n",
              "    border-color: transparent;\n",
              "    border-bottom-color: var(--fill-color);\n",
              "    animation:\n",
              "      spin 1s steps(1) infinite;\n",
              "  }\n",
              "\n",
              "  @keyframes spin {\n",
              "    0% {\n",
              "      border-color: transparent;\n",
              "      border-bottom-color: var(--fill-color);\n",
              "      border-left-color: var(--fill-color);\n",
              "    }\n",
              "    20% {\n",
              "      border-color: transparent;\n",
              "      border-left-color: var(--fill-color);\n",
              "      border-top-color: var(--fill-color);\n",
              "    }\n",
              "    30% {\n",
              "      border-color: transparent;\n",
              "      border-left-color: var(--fill-color);\n",
              "      border-top-color: var(--fill-color);\n",
              "      border-right-color: var(--fill-color);\n",
              "    }\n",
              "    40% {\n",
              "      border-color: transparent;\n",
              "      border-right-color: var(--fill-color);\n",
              "      border-top-color: var(--fill-color);\n",
              "    }\n",
              "    60% {\n",
              "      border-color: transparent;\n",
              "      border-right-color: var(--fill-color);\n",
              "    }\n",
              "    80% {\n",
              "      border-color: transparent;\n",
              "      border-right-color: var(--fill-color);\n",
              "      border-bottom-color: var(--fill-color);\n",
              "    }\n",
              "    90% {\n",
              "      border-color: transparent;\n",
              "      border-bottom-color: var(--fill-color);\n",
              "    }\n",
              "  }\n",
              "</style>\n",
              "\n",
              "  <script>\n",
              "    async function quickchart(key) {\n",
              "      const quickchartButtonEl =\n",
              "        document.querySelector('#' + key + ' button');\n",
              "      quickchartButtonEl.disabled = true;  // To prevent multiple clicks.\n",
              "      quickchartButtonEl.classList.add('colab-df-spinner');\n",
              "      try {\n",
              "        const charts = await google.colab.kernel.invokeFunction(\n",
              "            'suggestCharts', [key], {});\n",
              "      } catch (error) {\n",
              "        console.error('Error during call to suggestCharts:', error);\n",
              "      }\n",
              "      quickchartButtonEl.classList.remove('colab-df-spinner');\n",
              "      quickchartButtonEl.classList.add('colab-df-quickchart-complete');\n",
              "    }\n",
              "    (() => {\n",
              "      let quickchartButtonEl =\n",
              "        document.querySelector('#df-568033cc-491f-40a3-b1b8-e2cc66ef8492 button');\n",
              "      quickchartButtonEl.style.display =\n",
              "        google.colab.kernel.accessAllowed ? 'block' : 'none';\n",
              "    })();\n",
              "  </script>\n",
              "</div>\n",
              "\n",
              "    </div>\n",
              "  </div>\n"
            ],
            "application/vnd.google.colaboratory.intrinsic+json": {
              "type": "dataframe",
              "variable_name": "dataset"
            }
          },
          "metadata": {},
          "execution_count": 7
        }
      ]
    },
    {
      "cell_type": "code",
      "source": [
        "dataset.shape"
      ],
      "metadata": {
        "colab": {
          "base_uri": "https://localhost:8080/"
        },
        "id": "HI0yQ1ADGVwl",
        "outputId": "7c9e4f83-06f8-49f1-ac82-4267a5cbd64b"
      },
      "execution_count": null,
      "outputs": [
        {
          "output_type": "execute_result",
          "data": {
            "text/plain": [
              "(175341, 45)"
            ]
          },
          "metadata": {},
          "execution_count": 8
        }
      ]
    },
    {
      "cell_type": "code",
      "source": [
        "dataset.isnull().sum()"
      ],
      "metadata": {
        "colab": {
          "base_uri": "https://localhost:8080/",
          "height": 1000
        },
        "id": "iSYOOTz5GchM",
        "outputId": "15683481-a502-4912-cac6-401a93926099"
      },
      "execution_count": null,
      "outputs": [
        {
          "output_type": "execute_result",
          "data": {
            "text/plain": [
              "id                   0\n",
              "dur                  0\n",
              "proto                0\n",
              "service              0\n",
              "state                0\n",
              "spkts                0\n",
              "dpkts                0\n",
              "sbytes               0\n",
              "dbytes               0\n",
              "rate                 0\n",
              "sttl                 0\n",
              "dttl                 0\n",
              "sload                0\n",
              "dload                0\n",
              "sloss                0\n",
              "dloss                0\n",
              "sinpkt               0\n",
              "dinpkt               0\n",
              "sjit                 0\n",
              "djit                 0\n",
              "swin                 0\n",
              "stcpb                0\n",
              "dtcpb                0\n",
              "dwin                 0\n",
              "tcprtt               0\n",
              "synack               0\n",
              "ackdat               0\n",
              "smean                0\n",
              "dmean                0\n",
              "trans_depth          0\n",
              "response_body_len    0\n",
              "ct_srv_src           0\n",
              "ct_state_ttl         0\n",
              "ct_dst_ltm           0\n",
              "ct_src_dport_ltm     0\n",
              "ct_dst_sport_ltm     0\n",
              "ct_dst_src_ltm       0\n",
              "is_ftp_login         0\n",
              "ct_ftp_cmd           0\n",
              "ct_flw_http_mthd     0\n",
              "ct_src_ltm           0\n",
              "ct_srv_dst           0\n",
              "is_sm_ips_ports      0\n",
              "attack_cat           0\n",
              "label                0\n",
              "dtype: int64"
            ],
            "text/html": [
              "<div>\n",
              "<style scoped>\n",
              "    .dataframe tbody tr th:only-of-type {\n",
              "        vertical-align: middle;\n",
              "    }\n",
              "\n",
              "    .dataframe tbody tr th {\n",
              "        vertical-align: top;\n",
              "    }\n",
              "\n",
              "    .dataframe thead th {\n",
              "        text-align: right;\n",
              "    }\n",
              "</style>\n",
              "<table border=\"1\" class=\"dataframe\">\n",
              "  <thead>\n",
              "    <tr style=\"text-align: right;\">\n",
              "      <th></th>\n",
              "      <th>0</th>\n",
              "    </tr>\n",
              "  </thead>\n",
              "  <tbody>\n",
              "    <tr>\n",
              "      <th>id</th>\n",
              "      <td>0</td>\n",
              "    </tr>\n",
              "    <tr>\n",
              "      <th>dur</th>\n",
              "      <td>0</td>\n",
              "    </tr>\n",
              "    <tr>\n",
              "      <th>proto</th>\n",
              "      <td>0</td>\n",
              "    </tr>\n",
              "    <tr>\n",
              "      <th>service</th>\n",
              "      <td>0</td>\n",
              "    </tr>\n",
              "    <tr>\n",
              "      <th>state</th>\n",
              "      <td>0</td>\n",
              "    </tr>\n",
              "    <tr>\n",
              "      <th>spkts</th>\n",
              "      <td>0</td>\n",
              "    </tr>\n",
              "    <tr>\n",
              "      <th>dpkts</th>\n",
              "      <td>0</td>\n",
              "    </tr>\n",
              "    <tr>\n",
              "      <th>sbytes</th>\n",
              "      <td>0</td>\n",
              "    </tr>\n",
              "    <tr>\n",
              "      <th>dbytes</th>\n",
              "      <td>0</td>\n",
              "    </tr>\n",
              "    <tr>\n",
              "      <th>rate</th>\n",
              "      <td>0</td>\n",
              "    </tr>\n",
              "    <tr>\n",
              "      <th>sttl</th>\n",
              "      <td>0</td>\n",
              "    </tr>\n",
              "    <tr>\n",
              "      <th>dttl</th>\n",
              "      <td>0</td>\n",
              "    </tr>\n",
              "    <tr>\n",
              "      <th>sload</th>\n",
              "      <td>0</td>\n",
              "    </tr>\n",
              "    <tr>\n",
              "      <th>dload</th>\n",
              "      <td>0</td>\n",
              "    </tr>\n",
              "    <tr>\n",
              "      <th>sloss</th>\n",
              "      <td>0</td>\n",
              "    </tr>\n",
              "    <tr>\n",
              "      <th>dloss</th>\n",
              "      <td>0</td>\n",
              "    </tr>\n",
              "    <tr>\n",
              "      <th>sinpkt</th>\n",
              "      <td>0</td>\n",
              "    </tr>\n",
              "    <tr>\n",
              "      <th>dinpkt</th>\n",
              "      <td>0</td>\n",
              "    </tr>\n",
              "    <tr>\n",
              "      <th>sjit</th>\n",
              "      <td>0</td>\n",
              "    </tr>\n",
              "    <tr>\n",
              "      <th>djit</th>\n",
              "      <td>0</td>\n",
              "    </tr>\n",
              "    <tr>\n",
              "      <th>swin</th>\n",
              "      <td>0</td>\n",
              "    </tr>\n",
              "    <tr>\n",
              "      <th>stcpb</th>\n",
              "      <td>0</td>\n",
              "    </tr>\n",
              "    <tr>\n",
              "      <th>dtcpb</th>\n",
              "      <td>0</td>\n",
              "    </tr>\n",
              "    <tr>\n",
              "      <th>dwin</th>\n",
              "      <td>0</td>\n",
              "    </tr>\n",
              "    <tr>\n",
              "      <th>tcprtt</th>\n",
              "      <td>0</td>\n",
              "    </tr>\n",
              "    <tr>\n",
              "      <th>synack</th>\n",
              "      <td>0</td>\n",
              "    </tr>\n",
              "    <tr>\n",
              "      <th>ackdat</th>\n",
              "      <td>0</td>\n",
              "    </tr>\n",
              "    <tr>\n",
              "      <th>smean</th>\n",
              "      <td>0</td>\n",
              "    </tr>\n",
              "    <tr>\n",
              "      <th>dmean</th>\n",
              "      <td>0</td>\n",
              "    </tr>\n",
              "    <tr>\n",
              "      <th>trans_depth</th>\n",
              "      <td>0</td>\n",
              "    </tr>\n",
              "    <tr>\n",
              "      <th>response_body_len</th>\n",
              "      <td>0</td>\n",
              "    </tr>\n",
              "    <tr>\n",
              "      <th>ct_srv_src</th>\n",
              "      <td>0</td>\n",
              "    </tr>\n",
              "    <tr>\n",
              "      <th>ct_state_ttl</th>\n",
              "      <td>0</td>\n",
              "    </tr>\n",
              "    <tr>\n",
              "      <th>ct_dst_ltm</th>\n",
              "      <td>0</td>\n",
              "    </tr>\n",
              "    <tr>\n",
              "      <th>ct_src_dport_ltm</th>\n",
              "      <td>0</td>\n",
              "    </tr>\n",
              "    <tr>\n",
              "      <th>ct_dst_sport_ltm</th>\n",
              "      <td>0</td>\n",
              "    </tr>\n",
              "    <tr>\n",
              "      <th>ct_dst_src_ltm</th>\n",
              "      <td>0</td>\n",
              "    </tr>\n",
              "    <tr>\n",
              "      <th>is_ftp_login</th>\n",
              "      <td>0</td>\n",
              "    </tr>\n",
              "    <tr>\n",
              "      <th>ct_ftp_cmd</th>\n",
              "      <td>0</td>\n",
              "    </tr>\n",
              "    <tr>\n",
              "      <th>ct_flw_http_mthd</th>\n",
              "      <td>0</td>\n",
              "    </tr>\n",
              "    <tr>\n",
              "      <th>ct_src_ltm</th>\n",
              "      <td>0</td>\n",
              "    </tr>\n",
              "    <tr>\n",
              "      <th>ct_srv_dst</th>\n",
              "      <td>0</td>\n",
              "    </tr>\n",
              "    <tr>\n",
              "      <th>is_sm_ips_ports</th>\n",
              "      <td>0</td>\n",
              "    </tr>\n",
              "    <tr>\n",
              "      <th>attack_cat</th>\n",
              "      <td>0</td>\n",
              "    </tr>\n",
              "    <tr>\n",
              "      <th>label</th>\n",
              "      <td>0</td>\n",
              "    </tr>\n",
              "  </tbody>\n",
              "</table>\n",
              "</div><br><label><b>dtype:</b> int64</label>"
            ]
          },
          "metadata": {},
          "execution_count": 9
        }
      ]
    },
    {
      "cell_type": "code",
      "source": [
        "dataset.columns"
      ],
      "metadata": {
        "colab": {
          "base_uri": "https://localhost:8080/"
        },
        "id": "suz_4d5Wf8xg",
        "outputId": "af246d91-2344-4e35-b902-137dadb3b408"
      },
      "execution_count": null,
      "outputs": [
        {
          "output_type": "execute_result",
          "data": {
            "text/plain": [
              "Index(['id', 'dur', 'proto', 'service', 'state', 'spkts', 'dpkts', 'sbytes',\n",
              "       'dbytes', 'rate', 'sttl', 'dttl', 'sload', 'dload', 'sloss', 'dloss',\n",
              "       'sinpkt', 'dinpkt', 'sjit', 'djit', 'swin', 'stcpb', 'dtcpb', 'dwin',\n",
              "       'tcprtt', 'synack', 'ackdat', 'smean', 'dmean', 'trans_depth',\n",
              "       'response_body_len', 'ct_srv_src', 'ct_state_ttl', 'ct_dst_ltm',\n",
              "       'ct_src_dport_ltm', 'ct_dst_sport_ltm', 'ct_dst_src_ltm',\n",
              "       'is_ftp_login', 'ct_ftp_cmd', 'ct_flw_http_mthd', 'ct_src_ltm',\n",
              "       'ct_srv_dst', 'is_sm_ips_ports', 'attack_cat', 'label'],\n",
              "      dtype='object')"
            ]
          },
          "metadata": {},
          "execution_count": 10
        }
      ]
    },
    {
      "cell_type": "code",
      "source": [
        "dataset['label'].value_counts()"
      ],
      "metadata": {
        "colab": {
          "base_uri": "https://localhost:8080/",
          "height": 176
        },
        "id": "zfa1-cUzf30y",
        "outputId": "938ea68b-0010-4b9a-d78c-dc9350ddc82d"
      },
      "execution_count": null,
      "outputs": [
        {
          "output_type": "execute_result",
          "data": {
            "text/plain": [
              "label\n",
              "1    119341\n",
              "0     56000\n",
              "Name: count, dtype: int64"
            ],
            "text/html": [
              "<div>\n",
              "<style scoped>\n",
              "    .dataframe tbody tr th:only-of-type {\n",
              "        vertical-align: middle;\n",
              "    }\n",
              "\n",
              "    .dataframe tbody tr th {\n",
              "        vertical-align: top;\n",
              "    }\n",
              "\n",
              "    .dataframe thead th {\n",
              "        text-align: right;\n",
              "    }\n",
              "</style>\n",
              "<table border=\"1\" class=\"dataframe\">\n",
              "  <thead>\n",
              "    <tr style=\"text-align: right;\">\n",
              "      <th></th>\n",
              "      <th>count</th>\n",
              "    </tr>\n",
              "    <tr>\n",
              "      <th>label</th>\n",
              "      <th></th>\n",
              "    </tr>\n",
              "  </thead>\n",
              "  <tbody>\n",
              "    <tr>\n",
              "      <th>1</th>\n",
              "      <td>119341</td>\n",
              "    </tr>\n",
              "    <tr>\n",
              "      <th>0</th>\n",
              "      <td>56000</td>\n",
              "    </tr>\n",
              "  </tbody>\n",
              "</table>\n",
              "</div><br><label><b>dtype:</b> int64</label>"
            ]
          },
          "metadata": {},
          "execution_count": 11
        }
      ]
    },
    {
      "cell_type": "code",
      "source": [
        "for column in dataset.columns:\n",
        "  print(f\"{column}: {dataset[column].nunique()}\")"
      ],
      "metadata": {
        "colab": {
          "base_uri": "https://localhost:8080/"
        },
        "id": "7GQuvHkPx4c_",
        "outputId": "9e5b59fa-e3df-4acc-abcf-8be0cc6d1c27"
      },
      "execution_count": null,
      "outputs": [
        {
          "output_type": "stream",
          "name": "stdout",
          "text": [
            "id: 175341\n",
            "dur: 74039\n",
            "proto: 133\n",
            "service: 13\n",
            "state: 9\n",
            "spkts: 480\n",
            "dpkts: 443\n",
            "sbytes: 7214\n",
            "dbytes: 6660\n",
            "rate: 76991\n",
            "sttl: 11\n",
            "dttl: 6\n",
            "sload: 80885\n",
            "dload: 77474\n",
            "sloss: 409\n",
            "dloss: 370\n",
            "sinpkt: 76161\n",
            "dinpkt: 74245\n",
            "sjit: 77532\n",
            "djit: 76831\n",
            "swin: 13\n",
            "stcpb: 75265\n",
            "dtcpb: 75089\n",
            "dwin: 7\n",
            "tcprtt: 43319\n",
            "synack: 40142\n",
            "ackdat: 37708\n",
            "smean: 1357\n",
            "dmean: 1328\n",
            "trans_depth: 11\n",
            "response_body_len: 2386\n",
            "ct_srv_src: 52\n",
            "ct_state_ttl: 5\n",
            "ct_dst_ltm: 50\n",
            "ct_src_dport_ltm: 47\n",
            "ct_dst_sport_ltm: 32\n",
            "ct_dst_src_ltm: 54\n",
            "is_ftp_login: 4\n",
            "ct_ftp_cmd: 4\n",
            "ct_flw_http_mthd: 11\n",
            "ct_src_ltm: 50\n",
            "ct_srv_dst: 52\n",
            "is_sm_ips_ports: 2\n",
            "attack_cat: 10\n",
            "label: 2\n"
          ]
        }
      ]
    },
    {
      "cell_type": "code",
      "source": [
        "X = dataset.drop(['label'], axis=1)\n",
        "y = dataset['label']"
      ],
      "metadata": {
        "id": "4cbwTApp4j7C"
      },
      "execution_count": null,
      "outputs": []
    },
    {
      "cell_type": "code",
      "source": [
        "graph_labels = '1', '0'\n",
        "graph_y = y.value_counts()\n",
        "fig, ax = plt.subplots()\n",
        "ax.pie(graph_y, labels=graph_labels, autopct='%1.1f%%')\n",
        "plt.title('Label Type')\n",
        "plt.show()"
      ],
      "metadata": {
        "colab": {
          "base_uri": "https://localhost:8080/",
          "height": 428
        },
        "id": "hILujNSPQc6d",
        "outputId": "9f18bd32-00e7-4ce7-9975-9de3ac7e587f"
      },
      "execution_count": null,
      "outputs": [
        {
          "output_type": "display_data",
          "data": {
            "text/plain": [
              "<Figure size 640x480 with 1 Axes>"
            ],
            "image/png": "[encoded data removed]"
          },
          "metadata": {}
        }
      ]
    },
    {
      "cell_type": "code",
      "source": [
        "graph_y.plot(kind='bar', xlabel='Label')\n",
        "plt.show()"
      ],
      "metadata": {
        "colab": {
          "base_uri": "https://localhost:8080/",
          "height": 444
        },
        "id": "_2lHiEuHS_Ck",
        "outputId": "439651d0-6e46-4e99-8199-9a9174d4ed7d"
      },
      "execution_count": null,
      "outputs": [
        {
          "output_type": "display_data",
          "data": {
            "text/plain": [
              "<Figure size 640x480 with 1 Axes>"
            ],
            "image/png": "[encoded data removed]"
          },
          "metadata": {}
        }
      ]
    },
    {
      "cell_type": "code",
      "source": [
        "X = X.replace([np.inf, -np.inf], np.nan)"
      ],
      "metadata": {
        "id": "4jHKq1q3gvSm"
      },
      "execution_count": null,
      "outputs": []
    },
    {
      "cell_type": "code",
      "source": [
        "encoder = LabelEncoder()\n",
        "\n",
        "for column in X.select_dtypes(include=['object']).columns:\n",
        "  X[column] = encoder.fit_transform(X[column])"
      ],
      "metadata": {
        "id": "HjwaQWtSgy4g"
      },
      "execution_count": null,
      "outputs": []
    },
    {
      "cell_type": "code",
      "source": [
        "X.fillna(X.mean(), inplace=True)"
      ],
      "metadata": {
        "id": "gX5Tmd47hAMl"
      },
      "execution_count": null,
      "outputs": []
    },
    {
      "cell_type": "code",
      "source": [
        "X.shape"
      ],
      "metadata": {
        "colab": {
          "base_uri": "https://localhost:8080/"
        },
        "id": "Q-TKg4u_hBhF",
        "outputId": "b6f6a16b-586c-477f-d44a-1a3121514c0c"
      },
      "execution_count": null,
      "outputs": [
        {
          "output_type": "execute_result",
          "data": {
            "text/plain": [
              "(175341, 44)"
            ]
          },
          "metadata": {},
          "execution_count": 20
        }
      ]
    },
    {
      "cell_type": "code",
      "source": [
        "X_train, X_test, y_train, y_test = train_test_split(X, y, test_size=0.2, random_state=42)\n",
        "X_train, X_val, y_train, y_val = train_test_split(X_train, y_train, test_size=0.2, random_state=42)"
      ],
      "metadata": {
        "id": "WlKOG4fdU2YO"
      },
      "execution_count": null,
      "outputs": []
    },
    {
      "cell_type": "code",
      "source": [
        "scaler = StandardScaler()\n",
        "X_train = scaler.fit_transform(X_train)\n",
        "X_test = scaler.transform(X_test)\n",
        "X_val = scaler.transform(X_val)"
      ],
      "metadata": {
        "id": "gcj_d-VNZbrd"
      },
      "execution_count": null,
      "outputs": []
    },
    {
      "cell_type": "code",
      "source": [
        "class MyDataset(Dataset):\n",
        "    def __init__(self, X, y):\n",
        "        self.X = X\n",
        "        self.y = y\n",
        "        assert len(self.X) == len(self.y)\n",
        "\n",
        "    def __len__(self):\n",
        "        return len(self.X)\n",
        "\n",
        "    def __getitem__(self, idx):\n",
        "        x = self.X[idx]\n",
        "        y = self.y.iloc[idx]\n",
        "        return x, y"
      ],
      "metadata": {
        "id": "_ZodCpc0WUdK"
      },
      "execution_count": null,
      "outputs": []
    },
    {
      "cell_type": "code",
      "source": [
        "train_dataset = MyDataset(X_train, y_train)\n",
        "train_loader = DataLoader(train_dataset, batch_size=64, shuffle=True)\n",
        "test_dataset = MyDataset(X_test, y_test)\n",
        "test_loader = DataLoader(test_dataset, batch_size=64, shuffle=False)\n",
        "val_dataset = MyDataset(X_val, y_val)\n",
        "val_loader = DataLoader(val_dataset, batch_size=64, shuffle=False)"
      ],
      "metadata": {
        "id": "Yy43sx-kU5hT"
      },
      "execution_count": null,
      "outputs": []
    },
    {
      "cell_type": "code",
      "source": [
        "device = torch.device(\"cuda\" if torch.cuda.is_available() else \"cpu\")"
      ],
      "metadata": {
        "id": "fWUH-WBK19C8"
      },
      "execution_count": null,
      "outputs": []
    },
    {
      "cell_type": "markdown",
      "source": [
        "### DNN-BiLSTM"
      ],
      "metadata": {
        "id": "Jzk2Vfp7XFBn"
      }
    },
    {
      "cell_type": "code",
      "source": [
        "class DNNBiLSTM(nn.Module):\n",
        "    def __init__(self, input_size, hidden_size, lstm_layers, output_size):\n",
        "        super(DNNBiLSTM, self).__init__()\n",
        "\n",
        "        self.fc1 = nn.Linear(input_size, 128)\n",
        "        self.relu1 = nn.ReLU()\n",
        "        self.fc2 = nn.Linear(128, 64)\n",
        "        self.relu2 = nn.ReLU()\n",
        "\n",
        "        self.lstm = nn.LSTM(input_size=64, hidden_size=hidden_size,\n",
        "                            num_layers=lstm_layers, batch_first=True,\n",
        "                            bidirectional=True)\n",
        "\n",
        "        self.fc3 = nn.Linear(hidden_size * 2, output_size)\n",
        "        self.softmax = nn.Softmax(dim=1)\n",
        "\n",
        "    def forward(self, x):\n",
        "        x = x.float()\n",
        "        x = self.relu1(self.fc1(x))\n",
        "        x = self.relu2(self.fc2(x))\n",
        "        x = x.unsqueeze(1)\n",
        "        lstm_out, _ = self.lstm(x)\n",
        "        lstm_out = lstm_out[:, -1, :]\n",
        "\n",
        "        x = self.fc3(lstm_out)\n",
        "        return self.softmax(x)\n",
        "\n",
        "    def predict_proba(self, x):\n",
        "      with torch.no_grad():\n",
        "          x = torch.tensor(x, dtype=torch.float32)\n",
        "          output = self.forward(x)\n",
        "          probabilities = F.softmax(output, dim=1).numpy()\n",
        "          return probabilities"
      ],
      "metadata": {
        "id": "3GX2H6CdSD92"
      },
      "execution_count": null,
      "outputs": []
    },
    {
      "cell_type": "code",
      "source": [
        "def train(model, train_loader, val_loader, criterion, optimizer, num_epochs=50):\n",
        "    train_losses, val_losses = [], []\n",
        "    train_accuracies, val_accuracies = [], []\n",
        "\n",
        "    for epoch in range(num_epochs):\n",
        "        model.train()\n",
        "        total_train_loss, correct_train, total_samples = 0, 0, 0\n",
        "\n",
        "        for inputs, labels in train_loader:\n",
        "            inputs, labels = inputs.to(device), labels.to(device)\n",
        "\n",
        "            optimizer.zero_grad()\n",
        "            outputs = model(inputs)\n",
        "\n",
        "            loss = criterion(outputs, labels)\n",
        "            loss.backward()\n",
        "            optimizer.step()\n",
        "\n",
        "            total_train_loss += loss.item()\n",
        "            _, predicted = torch.max(outputs, 1)\n",
        "            correct_train += (predicted == labels).sum().item()\n",
        "            total_samples += labels.size(0)\n",
        "\n",
        "        train_loss = total_train_loss / len(train_loader)\n",
        "        train_accuracy = (correct_train / total_samples) * 100\n",
        "\n",
        "        # Validation Phase\n",
        "        model.eval()\n",
        "        total_val_loss, correct_val, total_val_samples = 0, 0, 0\n",
        "\n",
        "        with torch.no_grad():\n",
        "            for inputs, labels in val_loader:\n",
        "                inputs, labels = inputs.to(device), labels.to(device)\n",
        "\n",
        "                outputs = model(inputs)\n",
        "                loss = criterion(outputs, labels)\n",
        "\n",
        "                total_val_loss += loss.item()\n",
        "                _, predicted = torch.max(outputs, 1)\n",
        "                correct_val += (predicted == labels).sum().item()\n",
        "                total_val_samples += labels.size(0)\n",
        "\n",
        "        val_loss = total_val_loss / len(val_loader)\n",
        "        val_accuracy = (correct_val / total_val_samples) * 100\n",
        "\n",
        "        train_losses.append(train_loss)\n",
        "        val_losses.append(val_loss)\n",
        "        train_accuracies.append(train_accuracy)\n",
        "        val_accuracies.append(val_accuracy)\n",
        "\n",
        "        print(f\"Epoch {epoch+1}/{num_epochs} | \"\n",
        "              f\"Train Loss: {train_loss:.4f} | Val Loss: {val_loss:.4f} | \"\n",
        "              f\"Train Acc: {train_accuracy:.2f}% | Val Acc: {val_accuracy:.2f}%\")\n",
        "\n",
        "    return train_losses, val_losses, train_accuracies, val_accuracies"
      ],
      "metadata": {
        "id": "tK2Yvvg1lSPo"
      },
      "execution_count": null,
      "outputs": []
    },
    {
      "cell_type": "code",
      "source": [
        "def plot_performance(train_losses, val_losses, train_acc, val_acc):\n",
        "    fig, axes = plt.subplots(1, 2, figsize=(15, 5))\n",
        "\n",
        "    # Loss Plot\n",
        "    axes[0].plot(train_losses, label=\"Train Loss\", color='blue')\n",
        "    axes[0].plot(val_losses, label=\"Validation Loss\", color='red')\n",
        "    axes[0].set_title(\"Loss Curve\")\n",
        "    axes[0].set_xlabel(\"Epochs\")\n",
        "    axes[0].set_ylabel(\"Loss\")\n",
        "    axes[0].legend()\n",
        "\n",
        "    # Accuracy Plot\n",
        "    axes[1].plot(train_acc, label=\"Train Accuracy\", color='blue')\n",
        "    axes[1].plot(val_acc, label=\"Validation Accuracy\", color='red')\n",
        "    axes[1].set_title(\"Accuracy Curve\")\n",
        "    axes[1].set_xlabel(\"Epochs\")\n",
        "    axes[1].set_ylabel(\"Accuracy (%)\")\n",
        "    axes[1].legend()\n",
        "\n",
        "    plt.show()"
      ],
      "metadata": {
        "id": "HLmeHCn1ptjt"
      },
      "execution_count": null,
      "outputs": []
    },
    {
      "cell_type": "code",
      "source": [
        "input_size = X_train.shape[1]\n",
        "hidden_size = 64\n",
        "lstm_layers = 1\n",
        "output_size = 2\n",
        "batch_size = 128\n",
        "num_epochs = 20\n",
        "learning_rate = 0.0001"
      ],
      "metadata": {
        "id": "fGoa7ee_qlhS"
      },
      "execution_count": null,
      "outputs": []
    },
    {
      "cell_type": "code",
      "source": [
        "model = DNNBiLSTM(input_size, hidden_size, lstm_layers, output_size).to(device)\n",
        "criterion = nn.CrossEntropyLoss()\n",
        "optimizer = optim.Adam(model.parameters(), lr=learning_rate)"
      ],
      "metadata": {
        "id": "MY-jNrG9COs6"
      },
      "execution_count": null,
      "outputs": []
    },
    {
      "cell_type": "code",
      "source": [
        "train_losses, val_losses, train_acc, val_acc = train(model, train_loader, val_loader, criterion, optimizer, num_epochs)"
      ],
      "metadata": {
        "colab": {
          "base_uri": "https://localhost:8080/"
        },
        "id": "0ZGsRdObbl4Y",
        "outputId": "5d464ef8-953a-4c16-bd61-987091dcd04f"
      },
      "execution_count": null,
      "outputs": [
        {
          "output_type": "stream",
          "name": "stdout",
          "text": [
            "Epoch 1/20 | Train Loss: 0.3827 | Val Loss: 0.3351 | Train Acc: 94.16% | Val Acc: 97.84%\n",
            "Epoch 2/20 | Train Loss: 0.3303 | Val Loss: 0.3267 | Train Acc: 98.32% | Val Acc: 98.61%\n",
            "Epoch 3/20 | Train Loss: 0.3230 | Val Loss: 0.3199 | Train Acc: 99.03% | Val Acc: 99.34%\n",
            "Epoch 4/20 | Train Loss: 0.3184 | Val Loss: 0.3158 | Train Acc: 99.49% | Val Acc: 99.78%\n",
            "Epoch 5/20 | Train Loss: 0.3152 | Val Loss: 0.3145 | Train Acc: 99.83% | Val Acc: 99.89%\n",
            "Epoch 6/20 | Train Loss: 0.3143 | Val Loss: 0.3149 | Train Acc: 99.91% | Val Acc: 99.83%\n",
            "Epoch 7/20 | Train Loss: 0.3140 | Val Loss: 0.3139 | Train Acc: 99.93% | Val Acc: 99.94%\n",
            "Epoch 8/20 | Train Loss: 0.3138 | Val Loss: 0.3139 | Train Acc: 99.95% | Val Acc: 99.94%\n",
            "Epoch 9/20 | Train Loss: 0.3138 | Val Loss: 0.3138 | Train Acc: 99.95% | Val Acc: 99.95%\n",
            "Epoch 10/20 | Train Loss: 0.3137 | Val Loss: 0.3141 | Train Acc: 99.96% | Val Acc: 99.93%\n",
            "Epoch 11/20 | Train Loss: 0.3136 | Val Loss: 0.3140 | Train Acc: 99.97% | Val Acc: 99.93%\n",
            "Epoch 12/20 | Train Loss: 0.3136 | Val Loss: 0.3136 | Train Acc: 99.97% | Val Acc: 99.97%\n",
            "Epoch 13/20 | Train Loss: 0.3136 | Val Loss: 0.3137 | Train Acc: 99.96% | Val Acc: 99.95%\n",
            "Epoch 14/20 | Train Loss: 0.3134 | Val Loss: 0.3134 | Train Acc: 99.98% | Val Acc: 99.99%\n",
            "Epoch 15/20 | Train Loss: 0.3134 | Val Loss: 0.3134 | Train Acc: 99.98% | Val Acc: 99.99%\n",
            "Epoch 16/20 | Train Loss: 0.3134 | Val Loss: 0.3135 | Train Acc: 99.99% | Val Acc: 99.97%\n",
            "Epoch 17/20 | Train Loss: 0.3134 | Val Loss: 0.3134 | Train Acc: 99.98% | Val Acc: 99.99%\n",
            "Epoch 18/20 | Train Loss: 0.3134 | Val Loss: 0.3134 | Train Acc: 99.99% | Val Acc: 99.98%\n",
            "Epoch 19/20 | Train Loss: 0.3133 | Val Loss: 0.3134 | Train Acc: 100.00% | Val Acc: 99.98%\n",
            "Epoch 20/20 | Train Loss: 0.3134 | Val Loss: 0.3134 | Train Acc: 99.99% | Val Acc: 99.98%\n"
          ]
        }
      ]
    },
    {
      "cell_type": "code",
      "source": [
        "plot_performance(train_losses, val_losses, train_acc, val_acc)"
      ],
      "metadata": {
        "colab": {
          "base_uri": "https://localhost:8080/",
          "height": 425
        },
        "id": "1w0MMvG-r0Yk",
        "outputId": "4b5d7da6-b332-4830-c435-737a982dcf5b"
      },
      "execution_count": null,
      "outputs": [
        {
          "output_type": "display_data",
          "data": {
            "text/plain": [
              "<Figure size 1500x500 with 2 Axes>"
            ],
            "image/png": "[encoded data removed]"
          },
          "metadata": {}
        }
      ]
    },
    {
      "cell_type": "code",
      "source": [
        "def evaluate_model(model, test_loader):\n",
        "    model.eval()\n",
        "    test_loss = 0\n",
        "    correct = 0\n",
        "    predictions = []\n",
        "    labels = []\n",
        "\n",
        "    criterion = nn.CrossEntropyLoss()\n",
        "\n",
        "    with torch.no_grad():\n",
        "        for x, y in test_loader:\n",
        "            x, y = x.to(device, dtype=torch.float32), y.to(device, dtype=torch.long)\n",
        "            outputs = model(x)\n",
        "            loss = criterion(outputs, y)\n",
        "            test_loss += loss.item()\n",
        "\n",
        "            _, predicted = torch.max(outputs, 1)\n",
        "            correct += (predicted == y).sum().item()\n",
        "\n",
        "            predictions.extend(predicted.cpu().numpy())\n",
        "            labels.extend(y.cpu().numpy())\n",
        "\n",
        "    # Convert to numpy arrays\n",
        "    labels_array = np.array(labels)\n",
        "    predictions_array = np.array(predictions)\n",
        "\n",
        "    # Compute evaluation metrics\n",
        "    accuracy = correct / len(test_loader.dataset)\n",
        "    precision = precision_score(labels, predictions, zero_division=False)\n",
        "    recall = recall_score(labels, predictions, zero_division=False)\n",
        "    f1 = f1_score(labels, predictions, zero_division=False)\n",
        "\n",
        "    # Compute error metrics\n",
        "    MSE = mean_squared_error(labels_array, predictions_array)\n",
        "    RMSE = np.sqrt(MSE)\n",
        "    MAE = mean_absolute_error(labels_array, predictions_array)\n",
        "\n",
        "    safe_labels = np.where(labels_array == 0, np.nan, labels_array)\n",
        "    MAPE = np.nanmean(np.abs((labels_array - predictions_array) / safe_labels)) * 100\n",
        "\n",
        "    # System Resource Utilization\n",
        "    process = psutil.Process()\n",
        "    cpu_utilization = psutil.cpu_percent(interval=1)\n",
        "    memory_usage = process.memory_info().rss / 1024  # Convert to KB\n",
        "\n",
        "    # Print Results\n",
        "    print(\"\\n--- Evaluation Metrics ---\")\n",
        "    print(f\"Test Loss: {test_loss / len(test_loader):.4f}\")\n",
        "    print(f\"Test Accuracy: {accuracy:.4f}\")\n",
        "    print(f\"Precision: {precision:.4f}\")\n",
        "    print(f\"Recall: {recall:.4f}\")\n",
        "    print(f\"F1 Score: {f1:.4f}\")\n",
        "\n",
        "    print(\"\\n--- Error Metrics ---\")\n",
        "    print(f\"Mean Absolute Error (MAE): {MAE:.4f}\")\n",
        "    print(f\"Mean Squared Error (MSE): {MSE:.4f}\")\n",
        "    print(f\"Root Mean Squared Error (RMSE): {RMSE:.4f}\")\n",
        "    print(f\"Mean Absolute Percentage Error (MAPE): {MAPE:.2f}%\")\n",
        "\n",
        "    print(\"\\n--- System Resource Utilization ---\")\n",
        "    print(f\"CPU Utilization: {cpu_utilization}%\")\n",
        "    print(f\"Memory Usage: {memory_usage:.2f} KB\")\n",
        "\n",
        "    # Print Classification Report\n",
        "    print(\"\\n--- Classification Report ---\")\n",
        "    print(classification_report(labels, predictions, target_names=['Benign', 'DDoS']))\n",
        "\n",
        "    # Plot Confusion Matrix\n",
        "    conf_matrix = confusion_matrix(labels, predictions)\n",
        "    disp = ConfusionMatrixDisplay(confusion_matrix=conf_matrix, display_labels=['Benign', 'DDoS'])\n",
        "    disp.plot(cmap=plt.cm.Blues)\n",
        "    plt.title('Confusion Matrix')\n",
        "    plt.show()"
      ],
      "metadata": {
        "id": "iZTaqZ4ly6TL"
      },
      "execution_count": null,
      "outputs": []
    },
    {
      "cell_type": "code",
      "source": [
        "evaluate_model(model, test_loader)"
      ],
      "metadata": {
        "colab": {
          "base_uri": "https://localhost:8080/",
          "height": 948
        },
        "id": "ZErWkgLl2kuR",
        "outputId": "8313885c-2ab5-4d7e-9a03-c8e38cd278e7"
      },
      "execution_count": null,
      "outputs": [
        {
          "output_type": "stream",
          "name": "stdout",
          "text": [
            "\n",
            "--- Evaluation Metrics ---\n",
            "Test Loss: 0.3133\n",
            "Test Accuracy: 1.0000\n",
            "Precision: 1.0000\n",
            "Recall: 1.0000\n",
            "F1 Score: 1.0000\n",
            "\n",
            "--- Error Metrics ---\n",
            "Mean Absolute Error (MAE): 0.0000\n",
            "Mean Squared Error (MSE): 0.0000\n",
            "Root Mean Squared Error (RMSE): 0.0000\n",
            "Mean Absolute Percentage Error (MAPE): 0.00%\n",
            "\n",
            "--- System Resource Utilization ---\n",
            "CPU Utilization: 2.0%\n",
            "Memory Usage: 939100.00 KB\n",
            "\n",
            "--- Classification Report ---\n",
            "              precision    recall  f1-score   support\n",
            "\n",
            "      Benign       1.00      1.00      1.00     11169\n",
            "        DDoS       1.00      1.00      1.00     23900\n",
            "\n",
            "    accuracy                           1.00     35069\n",
            "   macro avg       1.00      1.00      1.00     35069\n",
            "weighted avg       1.00      1.00      1.00     35069\n",
            "\n"
          ]
        },
        {
          "output_type": "display_data",
          "data": {
            "text/plain": [
              "<Figure size 640x480 with 2 Axes>"
            ],
            "image/png": "[encoded data removed]"
          },
          "metadata": {}
        }
      ]
    },
    {
      "cell_type": "markdown",
      "source": [
        "###Fitness (Objective) Function"
      ],
      "metadata": {
        "id": "jPAzWrb-bIGM"
      }
    },
    {
      "cell_type": "code",
      "source": [
        "def train_on_selected_features(selected_features, X, y, epochs=50, batch_size=128):\n",
        "    selected_features_indices = np.where(selected_features)[0]\n",
        "    X_selected = X.iloc[:, selected_features_indices]\n",
        "\n",
        "    scaler = StandardScaler()\n",
        "    X_selected = scaler.fit_transform(X_selected)\n",
        "\n",
        "    X_train, X_test, y_train, y_test = train_test_split(X_selected, y, test_size=0.2, random_state=42)\n",
        "    X_train, X_val, y_train, y_val = train_test_split(X_train, y_train, test_size=0.2, random_state=42)\n",
        "\n",
        "    train_dataset1 = MyDataset(X_train, y_train)\n",
        "    train_loader1 = DataLoader(train_dataset1, batch_size=64, shuffle=True)\n",
        "    val_dataset1 = MyDataset(X_val, y_val)\n",
        "    val_loader1 = DataLoader(val_dataset1, batch_size=64, shuffle=False)\n",
        "\n",
        "    input_size = X_train.shape[1]\n",
        "    hidden_size = 64\n",
        "    lstm_layers = 1\n",
        "    output_size = 2\n",
        "    model = DNNBiLSTM(input_size, hidden_size, lstm_layers, output_size).to(device)\n",
        "    criterion = nn.CrossEntropyLoss()\n",
        "    optimizer = torch.optim.Adam(model.parameters(), lr=0.0001)\n",
        "\n",
        "    for epoch in range(epochs):\n",
        "        model.train()\n",
        "        total_loss = 0\n",
        "\n",
        "        for batch in train_loader1:\n",
        "            x, y = batch\n",
        "            y = y.long()\n",
        "            optimizer.zero_grad()\n",
        "            outputs = model(x)\n",
        "            loss = criterion(outputs, y)\n",
        "            loss.backward()\n",
        "            optimizer.step()\n",
        "            total_loss += loss.item()\n",
        "\n",
        "        model.eval()\n",
        "        val_loss = 0\n",
        "        correct = 0\n",
        "\n",
        "        with torch.no_grad():\n",
        "            for batch in val_loader1:\n",
        "                x, y = batch\n",
        "                y = y.long()\n",
        "                outputs = model(x)\n",
        "                loss = criterion(outputs, y)\n",
        "                val_loss += loss.item()\n",
        "                _, predicted = torch.max(outputs, 1)\n",
        "                correct += (predicted == y).sum().item()\n",
        "\n",
        "        accuracy = correct / len(val_dataset1)\n",
        "\n",
        "        return 1 - accuracy"
      ],
      "metadata": {
        "id": "Y2QHBSJ9_MVn"
      },
      "execution_count": null,
      "outputs": []
    },
    {
      "cell_type": "code",
      "source": [
        "class solution:\n",
        "    def __init__(self):\n",
        "        self.best = 0\n",
        "        self.bestIndividual = []\n",
        "        self.convergence = []\n",
        "        self.optimizer = \"\"\n",
        "        self.objfname = \"\"\n",
        "        self.startTime = 0\n",
        "        self.endTime = 0\n",
        "        self.executionTime = 0\n",
        "        self.lb = 0\n",
        "        self.ub = 0\n",
        "        self.dim = 0\n",
        "        self.popnum = 0\n",
        "        self.maxiers = 0"
      ],
      "metadata": {
        "id": "sjERopOktqs7"
      },
      "execution_count": null,
      "outputs": []
    },
    {
      "cell_type": "markdown",
      "source": [
        "### GA"
      ],
      "metadata": {
        "id": "ZQt14a_1b5jl"
      }
    },
    {
      "cell_type": "code",
      "source": [
        "def crossover(individualLength, parent1, parent2):\n",
        "    crossover_point = random.randint(1, individualLength - 1)\n",
        "    offspring1 = np.concatenate([parent1[:crossover_point], parent2[crossover_point:]])\n",
        "    offspring2 = np.concatenate([parent2[:crossover_point], parent1[crossover_point:]])\n",
        "    return offspring1, offspring2"
      ],
      "metadata": {
        "id": "kZHATA-HtvoK"
      },
      "execution_count": null,
      "outputs": []
    },
    {
      "cell_type": "code",
      "source": [
        "def mutation(individual, individualLength, lb, ub):\n",
        "    mutationIndex = random.randint(0, individualLength - 1)\n",
        "    individual[mutationIndex] = 1 - individual[mutationIndex]"
      ],
      "metadata": {
        "id": "CQxcPt7Ktz7d"
      },
      "execution_count": null,
      "outputs": []
    },
    {
      "cell_type": "code",
      "source": [
        "def pairSelection(population, scores, popSize):\n",
        "    def rouletteWheelSelectionId(scores, popSize):\n",
        "        total_fitness = sum(scores)\n",
        "        normalized_scores = [score / total_fitness for score in scores]\n",
        "        cumulative_probs = np.cumsum(normalized_scores)\n",
        "        random_num = random.random()\n",
        "        for i, cumulative_prob in enumerate(cumulative_probs):\n",
        "            if random_num <= cumulative_prob:\n",
        "                return i\n",
        "\n",
        "    parent1Id = rouletteWheelSelectionId(scores, popSize)\n",
        "    parent1 = population[parent1Id].copy()\n",
        "\n",
        "    parent2Id = parent1Id\n",
        "    while parent2Id == parent1Id:\n",
        "        parent2Id = rouletteWheelSelectionId(scores, popSize)\n",
        "\n",
        "    parent2 = population[parent2Id].copy()\n",
        "\n",
        "    return parent1, parent2"
      ],
      "metadata": {
        "id": "5LXsjsjUt4rP"
      },
      "execution_count": null,
      "outputs": []
    },
    {
      "cell_type": "code",
      "source": [
        "def mutatePopulaton(population, popSize, mutationProbability, keep, lb, ub):\n",
        "    for i in range(keep, popSize):\n",
        "        if random.random() < mutationProbability:\n",
        "            mutation(population[i], len(population[i]), lb, ub)"
      ],
      "metadata": {
        "id": "YrPzn26Xt8La"
      },
      "execution_count": null,
      "outputs": []
    },
    {
      "cell_type": "code",
      "source": [
        "def sortPopulation(population, scores):\n",
        "    sorted_indices = scores.argsort()\n",
        "    population = population[sorted_indices]\n",
        "    scores = scores[sorted_indices]\n",
        "    return population, scores"
      ],
      "metadata": {
        "id": "-pOxIgeYuEiK"
      },
      "execution_count": null,
      "outputs": []
    },
    {
      "cell_type": "code",
      "source": [
        "def crossoverPopulaton(population, scores, popSize, crossoverProbability, keep):\n",
        "    newPopulation = np.zeros_like(population)\n",
        "    newPopulation[:keep] = population[:keep]\n",
        "\n",
        "    for i in range(keep, popSize, 2):\n",
        "        parent1, parent2 = pairSelection(population, scores, popSize)\n",
        "        individualLength = len(parent1)\n",
        "\n",
        "        if random.random() < crossoverProbability:\n",
        "            offspring1, offspring2 = crossover(individualLength, parent1, parent2)\n",
        "        else:\n",
        "            offspring1, offspring2 = parent1.copy(), parent2.copy()\n",
        "\n",
        "        newPopulation[i] = offspring1\n",
        "        if i + 1 < popSize:\n",
        "            newPopulation[i + 1] = offspring2\n",
        "\n",
        "    return newPopulation"
      ],
      "metadata": {
        "id": "LmTVqnvOuSxa"
      },
      "execution_count": null,
      "outputs": []
    },
    {
      "cell_type": "code",
      "source": [
        "def clearDups(population, lb, ub):\n",
        "    unique_population = np.unique(population, axis=0)\n",
        "    num_duplicates = len(population) - len(unique_population)\n",
        "\n",
        "    if num_duplicates > 0:\n",
        "        random_individuals = np.random.randint(2, size=(num_duplicates, population.shape[1]))\n",
        "        unique_population = np.vstack((unique_population, random_individuals))\n",
        "\n",
        "    return unique_population"
      ],
      "metadata": {
        "id": "QseCzYabuaSF"
      },
      "execution_count": null,
      "outputs": []
    },
    {
      "cell_type": "code",
      "source": [
        "def GA(objf, lb, ub, dim, popSize, iters):\n",
        "    cp = 0.8\n",
        "    mp = 0.05\n",
        "    keep = 2\n",
        "    s = solution()\n",
        "\n",
        "    bestScore = float(\"inf\")\n",
        "    bestIndividual = None\n",
        "\n",
        "    ga = np.random.randint(2, size=(popSize, dim))\n",
        "    convergence_curve = np.zeros(iters)\n",
        "\n",
        "    print('GA is optimizing \"' + objf.__name__ + '\" for feature selection')\n",
        "\n",
        "    timerStart = time.time()\n",
        "    s.startTime = time.strftime(\"%Y-%m-%d-%H-%M-%S\")\n",
        "\n",
        "    for l in range(iters):\n",
        "        scores = np.array([objf(ind) for ind in ga])\n",
        "\n",
        "        ga, scores = sortPopulation(ga, scores)\n",
        "\n",
        "        if scores[0] < bestScore:\n",
        "            bestScore = scores[0]\n",
        "            bestIndividual = ga[0]\n",
        "\n",
        "        convergence_curve[l] = bestScore\n",
        "\n",
        "        if l % 1 == 0:\n",
        "            print(f\"Iteration {l + 1}, best fitness (error): {bestScore:.4f}\")\n",
        "\n",
        "        ga = crossoverPopulaton(ga, scores, popSize, cp, keep)\n",
        "        mutatePopulaton(ga, popSize, mp, keep, lb, ub)\n",
        "        ga = clearDups(ga, lb, ub)\n",
        "\n",
        "    timerEnd = time.time()\n",
        "    s.bestIndividual = bestIndividual\n",
        "    s.bestScore = bestScore\n",
        "    s.executionTime = timerEnd - timerStart\n",
        "    s.convergence = convergence_curve\n",
        "    s.optimizer = \"GA\"\n",
        "    s.objfname = objf.__name__\n",
        "\n",
        "    return s"
      ],
      "metadata": {
        "id": "3Ng2p_U_b71n"
      },
      "execution_count": null,
      "outputs": []
    },
    {
      "cell_type": "code",
      "source": [
        "dim = X.shape[1]\n",
        "lb = [0] * dim\n",
        "ub = [1] * dim\n",
        "popSize = 20\n",
        "iters = 5"
      ],
      "metadata": {
        "id": "99zk5Ogcu0Fd"
      },
      "execution_count": null,
      "outputs": []
    },
    {
      "cell_type": "code",
      "source": [
        "def objective(selected_features):\n",
        "  return train_on_selected_features(selected_features, X, y)"
      ],
      "metadata": {
        "id": "8PZTmvbp5rwt"
      },
      "execution_count": null,
      "outputs": []
    },
    {
      "cell_type": "code",
      "source": [
        "best_solution = GA(objective, lb, ub, dim, popSize, iters)\n",
        "\n",
        "print(f\"Best feature set: {best_solution.bestIndividual}\")\n",
        "print(f\"Best accuracy (1 - best error): {1 - best_solution.bestScore}\")"
      ],
      "metadata": {
        "colab": {
          "base_uri": "https://localhost:8080/"
        },
        "id": "u2xMQFQnu3fo",
        "outputId": "24b686dd-f7fd-4926-f108-8b07b07e4189"
      },
      "execution_count": null,
      "outputs": [
        {
          "output_type": "stream",
          "name": "stdout",
          "text": [
            "GA is optimizing \"objective\" for feature selection\n",
            "Iteration 1, best fitness (error): 0.0193\n",
            "Iteration 2, best fitness (error): 0.0193\n",
            "Iteration 3, best fitness (error): 0.0163\n",
            "Iteration 4, best fitness (error): 0.0163\n",
            "Iteration 5, best fitness (error): 0.0163\n",
            "Best feature set: [1 1 0 0 0 1 0 0 1 1 0 1 1 0 1 0 0 1 0 1 1 0 0 0 1 0 0 1 1 0 0 0 0 1 0 1 0\n",
            " 1 0 1 0 1 0 1]\n",
            "Best accuracy (1 - best error): 0.983746212796293\n"
          ]
        }
      ]
    },
    {
      "cell_type": "code",
      "source": [
        "selected_features_ga = best_solution.bestIndividual"
      ],
      "metadata": {
        "id": "-jRi6uRHwPUA"
      },
      "execution_count": null,
      "outputs": []
    },
    {
      "cell_type": "code",
      "source": [
        "selected_features_ga"
      ],
      "metadata": {
        "colab": {
          "base_uri": "https://localhost:8080/"
        },
        "id": "KY9THvh2hnND",
        "outputId": "200082c4-94a1-46bc-f24c-3c4bdd22c6ca"
      },
      "execution_count": null,
      "outputs": [
        {
          "output_type": "execute_result",
          "data": {
            "text/plain": [
              "array([1, 1, 0, 0, 0, 1, 0, 0, 1, 1, 0, 1, 1, 0, 1, 0, 0, 1, 0, 1, 1, 0,\n",
              "       0, 0, 1, 0, 0, 1, 1, 0, 0, 0, 0, 1, 0, 1, 0, 1, 0, 1, 0, 1, 0, 1])"
            ]
          },
          "metadata": {},
          "execution_count": 52
        }
      ]
    },
    {
      "cell_type": "code",
      "source": [
        "selected_features_ga_original = [X.columns[i] for i, x in enumerate(selected_features_ga) if x == 1]\n",
        "print(selected_features_ga_original)\n",
        "print(len(selected_features_ga_original))"
      ],
      "metadata": {
        "colab": {
          "base_uri": "https://localhost:8080/"
        },
        "id": "zJRhlZ_RwWyo",
        "outputId": "1347e127-692a-4b72-dd04-eb6141ec7ab0"
      },
      "execution_count": null,
      "outputs": [
        {
          "output_type": "stream",
          "name": "stdout",
          "text": [
            "['id', 'dur', 'spkts', 'dbytes', 'rate', 'dttl', 'sload', 'sloss', 'dinpkt', 'djit', 'swin', 'tcprtt', 'smean', 'dmean', 'ct_dst_ltm', 'ct_dst_sport_ltm', 'is_ftp_login', 'ct_flw_http_mthd', 'ct_srv_dst', 'attack_cat']\n",
            "20\n"
          ]
        }
      ]
    },
    {
      "cell_type": "code",
      "source": [
        "weights_ga = [1 if x in selected_features_ga_original else 0 for x in X.columns]\n",
        "print(weights_ga)"
      ],
      "metadata": {
        "colab": {
          "base_uri": "https://localhost:8080/"
        },
        "id": "Ix1noURQix_o",
        "outputId": "3964f291-ea3d-4b74-c8d3-fc912ace7580"
      },
      "execution_count": null,
      "outputs": [
        {
          "output_type": "stream",
          "name": "stdout",
          "text": [
            "[1, 1, 0, 0, 0, 1, 0, 0, 1, 1, 0, 1, 1, 0, 1, 0, 0, 1, 0, 1, 1, 0, 0, 0, 1, 0, 0, 1, 1, 0, 0, 0, 0, 1, 0, 1, 0, 1, 0, 1, 0, 1, 0, 1]\n"
          ]
        }
      ]
    },
    {
      "cell_type": "code",
      "source": [
        "selected_features_ga_original"
      ],
      "metadata": {
        "colab": {
          "base_uri": "https://localhost:8080/"
        },
        "id": "tY2JGX1irqTg",
        "outputId": "d56d2d06-b691-4479-e90c-6bb74ee2b1fc"
      },
      "execution_count": null,
      "outputs": [
        {
          "output_type": "execute_result",
          "data": {
            "text/plain": [
              "['id',\n",
              " 'dur',\n",
              " 'spkts',\n",
              " 'dbytes',\n",
              " 'rate',\n",
              " 'dttl',\n",
              " 'sload',\n",
              " 'sloss',\n",
              " 'dinpkt',\n",
              " 'djit',\n",
              " 'swin',\n",
              " 'tcprtt',\n",
              " 'smean',\n",
              " 'dmean',\n",
              " 'ct_dst_ltm',\n",
              " 'ct_dst_sport_ltm',\n",
              " 'is_ftp_login',\n",
              " 'ct_flw_http_mthd',\n",
              " 'ct_srv_dst',\n",
              " 'attack_cat']"
            ]
          },
          "metadata": {},
          "execution_count": 55
        }
      ]
    },
    {
      "cell_type": "markdown",
      "source": [
        "### GA Features"
      ],
      "metadata": {
        "id": "4yUFGywYZxfv"
      }
    },
    {
      "cell_type": "code",
      "source": [
        "ga_features_indices = [X.columns.get_loc(col) for col in selected_features_ga_original]"
      ],
      "metadata": {
        "id": "1jmhYO1dw161"
      },
      "execution_count": null,
      "outputs": []
    },
    {
      "cell_type": "code",
      "source": [
        "X_selected_ga = X.iloc[:, ga_features_indices]"
      ],
      "metadata": {
        "id": "2UNuEwCIw68B"
      },
      "execution_count": null,
      "outputs": []
    },
    {
      "cell_type": "code",
      "source": [
        "X_train_selected_ga, X_test_selected_ga, y_train_selected_ga, y_test_selected_ga = train_test_split(X_selected_ga, y, test_size=0.3, random_state=42)\n",
        "X_train_selected_ga, X_val_selected_ga, y_train_selected_ga, y_val_selected_ga = train_test_split(X_train_selected_ga, y_train_selected_ga, test_size=0.2, random_state=42)"
      ],
      "metadata": {
        "id": "PC_Iv6uJw-EI"
      },
      "execution_count": null,
      "outputs": []
    },
    {
      "cell_type": "code",
      "source": [
        "X_train_selected_ga = scaler.fit_transform(X_train_selected_ga)\n",
        "X_test_selected_ga = scaler.transform(X_test_selected_ga)\n",
        "X_val_selected_ga = scaler.transform(X_val_selected_ga)"
      ],
      "metadata": {
        "id": "LcBU9uqQxG2-"
      },
      "execution_count": null,
      "outputs": []
    },
    {
      "cell_type": "code",
      "source": [
        "train_dataset_selected_ga = MyDataset(X_train_selected_ga, y_train_selected_ga)\n",
        "train_loader_selected_ga = DataLoader(train_dataset_selected_ga, batch_size=64, shuffle=True)\n",
        "test_dataset_selected_ga = MyDataset(X_test_selected_ga, y_test_selected_ga)\n",
        "test_loader_selected_ga = DataLoader(test_dataset_selected_ga, batch_size=64, shuffle=False)\n",
        "val_dataset_selected_ga = MyDataset(X_val_selected_ga, y_val_selected_ga)\n",
        "val_loader_selected_ga = DataLoader(val_dataset_selected_ga, batch_size=64, shuffle=False)"
      ],
      "metadata": {
        "id": "-75C74l-zoD7"
      },
      "execution_count": null,
      "outputs": []
    },
    {
      "cell_type": "code",
      "source": [
        "model_selected_ga = DNNBiLSTM(input_size=X_train_selected_ga.shape[1], hidden_size=64, lstm_layers=1, output_size=2)\n",
        "criterion = nn.CrossEntropyLoss()\n",
        "optimizer_selected_ga = optim.Adam(model_selected_ga.parameters(), lr=0.0001)"
      ],
      "metadata": {
        "id": "I4M1O9sX1Pdi"
      },
      "execution_count": null,
      "outputs": []
    },
    {
      "cell_type": "code",
      "source": [
        "train_losses_selected_ga, val_losses_selected_ga, train_acc_selected_ga, val_acc_selected_ga = train(model_selected_ga, train_loader_selected_ga, val_loader_selected_ga, criterion, optimizer_selected_ga, num_epochs)"
      ],
      "metadata": {
        "colab": {
          "base_uri": "https://localhost:8080/"
        },
        "id": "XscVAYRVF4S8",
        "outputId": "c350ad50-8cb1-442f-fc85-2c8c464680f1"
      },
      "execution_count": null,
      "outputs": [
        {
          "output_type": "stream",
          "name": "stdout",
          "text": [
            "Epoch 1/20 | Train Loss: 0.3927 | Val Loss: 0.3379 | Train Acc: 92.60% | Val Acc: 97.59%\n",
            "Epoch 2/20 | Train Loss: 0.3267 | Val Loss: 0.3187 | Train Acc: 98.77% | Val Acc: 99.55%\n",
            "Epoch 3/20 | Train Loss: 0.3161 | Val Loss: 0.3147 | Train Acc: 99.78% | Val Acc: 99.89%\n",
            "Epoch 4/20 | Train Loss: 0.3140 | Val Loss: 0.3140 | Train Acc: 99.95% | Val Acc: 99.93%\n",
            "Epoch 5/20 | Train Loss: 0.3137 | Val Loss: 0.3139 | Train Acc: 99.97% | Val Acc: 99.95%\n",
            "Epoch 6/20 | Train Loss: 0.3136 | Val Loss: 0.3136 | Train Acc: 99.97% | Val Acc: 99.96%\n",
            "Epoch 7/20 | Train Loss: 0.3135 | Val Loss: 0.3136 | Train Acc: 99.98% | Val Acc: 99.97%\n",
            "Epoch 8/20 | Train Loss: 0.3134 | Val Loss: 0.3135 | Train Acc: 99.99% | Val Acc: 99.98%\n",
            "Epoch 9/20 | Train Loss: 0.3133 | Val Loss: 0.3135 | Train Acc: 99.99% | Val Acc: 99.98%\n",
            "Epoch 10/20 | Train Loss: 0.3134 | Val Loss: 0.3134 | Train Acc: 99.99% | Val Acc: 99.99%\n",
            "Epoch 11/20 | Train Loss: 0.3133 | Val Loss: 0.3134 | Train Acc: 100.00% | Val Acc: 99.98%\n",
            "Epoch 12/20 | Train Loss: 0.3133 | Val Loss: 0.3134 | Train Acc: 99.99% | Val Acc: 99.99%\n",
            "Epoch 13/20 | Train Loss: 0.3134 | Val Loss: 0.3134 | Train Acc: 99.99% | Val Acc: 99.99%\n",
            "Epoch 14/20 | Train Loss: 0.3134 | Val Loss: 0.3134 | Train Acc: 99.99% | Val Acc: 99.99%\n",
            "Epoch 15/20 | Train Loss: 0.3133 | Val Loss: 0.3135 | Train Acc: 100.00% | Val Acc: 99.98%\n",
            "Epoch 16/20 | Train Loss: 0.3133 | Val Loss: 0.3134 | Train Acc: 99.99% | Val Acc: 99.99%\n",
            "Epoch 17/20 | Train Loss: 0.3133 | Val Loss: 0.3133 | Train Acc: 100.00% | Val Acc: 99.99%\n",
            "Epoch 18/20 | Train Loss: 0.3133 | Val Loss: 0.3133 | Train Acc: 100.00% | Val Acc: 99.99%\n",
            "Epoch 19/20 | Train Loss: 0.3133 | Val Loss: 0.3134 | Train Acc: 99.99% | Val Acc: 99.98%\n",
            "Epoch 20/20 | Train Loss: 0.3133 | Val Loss: 0.3133 | Train Acc: 100.00% | Val Acc: 99.99%\n"
          ]
        }
      ]
    },
    {
      "cell_type": "code",
      "source": [
        "plot_performance(train_losses_selected_ga, val_losses_selected_ga, train_acc_selected_ga, val_acc_selected_ga)"
      ],
      "metadata": {
        "colab": {
          "base_uri": "https://localhost:8080/",
          "height": 425
        },
        "id": "NZgHSkaQGgE3",
        "outputId": "c52bf8e0-5fdc-4f3f-8aa5-a48c60c1ff13"
      },
      "execution_count": null,
      "outputs": [
        {
          "output_type": "display_data",
          "data": {
            "text/plain": [
              "<Figure size 1500x500 with 2 Axes>"
            ],
            "image/png": "[encoded data removed]"
          },
          "metadata": {}
        }
      ]
    },
    {
      "cell_type": "code",
      "source": [
        "evaluate_model(model_selected_ga, test_loader_selected_ga)"
      ],
      "metadata": {
        "colab": {
          "base_uri": "https://localhost:8080/",
          "height": 948
        },
        "id": "OLeUGRqqeF1Y",
        "outputId": "e6e47491-05d5-48f6-f9a3-175f9bc3df47"
      },
      "execution_count": null,
      "outputs": [
        {
          "output_type": "stream",
          "name": "stdout",
          "text": [
            "\n",
            "--- Evaluation Metrics ---\n",
            "Test Loss: 0.3133\n",
            "Test Accuracy: 0.9999\n",
            "Precision: 0.9999\n",
            "Recall: 0.9999\n",
            "F1 Score: 0.9999\n",
            "\n",
            "--- Error Metrics ---\n",
            "Mean Absolute Error (MAE): 0.0001\n",
            "Mean Squared Error (MSE): 0.0001\n",
            "Root Mean Squared Error (RMSE): 0.0087\n",
            "Mean Absolute Percentage Error (MAPE): 0.01%\n",
            "\n",
            "--- System Resource Utilization ---\n",
            "CPU Utilization: 2.0%\n",
            "Memory Usage: 1025660.00 KB\n",
            "\n",
            "--- Classification Report ---\n",
            "              precision    recall  f1-score   support\n",
            "\n",
            "      Benign       1.00      1.00      1.00     16772\n",
            "        DDoS       1.00      1.00      1.00     35831\n",
            "\n",
            "    accuracy                           1.00     52603\n",
            "   macro avg       1.00      1.00      1.00     52603\n",
            "weighted avg       1.00      1.00      1.00     52603\n",
            "\n"
          ]
        },
        {
          "output_type": "display_data",
          "data": {
            "text/plain": [
              "<Figure size 640x480 with 2 Axes>"
            ],
            "image/png": "[encoded data removed]"
          },
          "metadata": {}
        }
      ]
    },
    {
      "cell_type": "markdown",
      "source": [
        "Model Size"
      ],
      "metadata": {
        "id": "Pwfi58qEO8dh"
      }
    },
    {
      "cell_type": "code",
      "source": [
        "torch.save(model.state_dict(), '/content/drive/MyDrive/research_paper/unsw_nb15_model.pth')\n",
        "\n",
        "model_size1 = os.path.getsize('/content/drive/MyDrive/research_paper/unsw_nb15_model.pth') / 1024\n",
        "print(f\"Model Size: {model_size1:.2f} KB\")"
      ],
      "metadata": {
        "id": "iTWTUsCtPOJ6",
        "colab": {
          "base_uri": "https://localhost:8080/"
        },
        "outputId": "0f8df885-7101-44d2-9806-59839eb44571"
      },
      "execution_count": null,
      "outputs": [
        {
          "output_type": "stream",
          "name": "stdout",
          "text": [
            "Model Size: 320.62 KB\n"
          ]
        }
      ]
    },
    {
      "cell_type": "code",
      "source": [
        "torch.save(model_selected_ga.state_dict(), '/content/drive/MyDrive/research_paper/unsw_nb15_ga_model.pth')\n",
        "\n",
        "model_size_ga = os.path.getsize('/content/drive/MyDrive/research_paper/unsw_nb15_ga_model.pth') / 1024\n",
        "print(f\"Model Size: {model_size_ga:.2f} KB\")"
      ],
      "metadata": {
        "id": "6eMsrwq4OpmJ",
        "colab": {
          "base_uri": "https://localhost:8080/"
        },
        "outputId": "f16f0a9d-dcde-40ac-ef9e-17f2d935e648"
      },
      "execution_count": null,
      "outputs": [
        {
          "output_type": "stream",
          "name": "stdout",
          "text": [
            "Model Size: 308.67 KB\n"
          ]
        }
      ]
    },
    {
      "cell_type": "markdown",
      "source": [
        "### Dynamic Quantization model"
      ],
      "metadata": {
        "id": "g6LVDi5YtsEa"
      }
    },
    {
      "cell_type": "code",
      "source": [
        "import torch.quantization\n",
        "quantized_model_ga = torch.quantization.quantize_dynamic(\n",
        "    model_selected_ga,\n",
        "    {nn.LSTM},\n",
        "    dtype=torch.qint8\n",
        ")"
      ],
      "metadata": {
        "id": "miTHfMRLqt_0"
      },
      "execution_count": null,
      "outputs": []
    },
    {
      "cell_type": "code",
      "source": [
        "evaluate_model(quantized_model_ga, test_loader_selected_ga)"
      ],
      "metadata": {
        "colab": {
          "base_uri": "https://localhost:8080/",
          "height": 948
        },
        "id": "5lQhLOBdrkQ9",
        "outputId": "9f8244df-dbf7-4c20-ea54-32a25072f271"
      },
      "execution_count": null,
      "outputs": [
        {
          "output_type": "stream",
          "name": "stdout",
          "text": [
            "\n",
            "--- Evaluation Metrics ---\n",
            "Test Loss: 0.3133\n",
            "Test Accuracy: 0.9999\n",
            "Precision: 0.9999\n",
            "Recall: 0.9999\n",
            "F1 Score: 0.9999\n",
            "\n",
            "--- Error Metrics ---\n",
            "Mean Absolute Error (MAE): 0.0001\n",
            "Mean Squared Error (MSE): 0.0001\n",
            "Root Mean Squared Error (RMSE): 0.0087\n",
            "Mean Absolute Percentage Error (MAPE): 0.01%\n",
            "\n",
            "--- System Resource Utilization ---\n",
            "CPU Utilization: 1.5%\n",
            "Memory Usage: 1029532.00 KB\n",
            "\n",
            "--- Classification Report ---\n",
            "              precision    recall  f1-score   support\n",
            "\n",
            "      Benign       1.00      1.00      1.00     16772\n",
            "        DDoS       1.00      1.00      1.00     35831\n",
            "\n",
            "    accuracy                           1.00     52603\n",
            "   macro avg       1.00      1.00      1.00     52603\n",
            "weighted avg       1.00      1.00      1.00     52603\n",
            "\n"
          ]
        },
        {
          "output_type": "display_data",
          "data": {
            "text/plain": [
              "<Figure size 640x480 with 2 Axes>"
            ],
            "image/png": "[encoded data removed]"
          },
          "metadata": {}
        }
      ]
    },
    {
      "cell_type": "code",
      "source": [
        "torch.save(quantized_model_ga.state_dict(), '/content/drive/MyDrive/research_paper/unsw_nb15_ga_quantised_model.pth')\n",
        "\n",
        "quantized_ga_size = os.path.getsize('/content/drive/MyDrive/research_paper/unsw_nb15_ga_quantised_model.pth') / 1024\n",
        "print(f\"Model Size: {quantized_ga_size:.2f} KB\")"
      ],
      "metadata": {
        "colab": {
          "base_uri": "https://localhost:8080/"
        },
        "id": "JbYuZ2icqd2M",
        "outputId": "f032791b-6518-4481-b9c7-53d03bea7058"
      },
      "execution_count": null,
      "outputs": [
        {
          "output_type": "stream",
          "name": "stdout",
          "text": [
            "Model Size: 117.66 KB\n"
          ]
        }
      ]
    }
  ]
}